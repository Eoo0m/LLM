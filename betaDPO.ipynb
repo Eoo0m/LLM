{
 "cells": [
  {
   "cell_type": "markdown",
   "metadata": {},
   "source": [
    "---"
   ]
  },
  {
   "cell_type": "markdown",
   "metadata": {},
   "source": [
    "## **SFT and DPO Training Pipeline with Unsloth**\n",
    "\n",
    "This notebook demonstrates:\n",
    "1. Fine-tuning a Llama-3.2-1B model using Supervised Fine-Tuning (SFT) with Unsloth\n",
    "2. Evaluating the SFT model against the base model\n",
    "3. Performing DPO training on the SFT model\n",
    "4. Evaluating the DPO model against the base model"
   ]
  },
  {
   "cell_type": "markdown",
   "metadata": {},
   "source": [
    "## Setup\n",
    "Create a directory for logs and install the necessary packages."
   ]
  },
  {
   "cell_type": "code",
   "execution_count": 1,
   "metadata": {},
   "outputs": [],
   "source": [
    "# Create logs directory\n",
    "!mkdir -p ./outputs/logs\n",
    "\n",
    "# Start log\n",
    "!echo \"=== STARTING OPTIMIZED SFT AND DPO RUN ===\" > ./outputs/logs/training.log"
   ]
  },
  {
   "cell_type": "code",
   "execution_count": null,
   "metadata": {
    "scrolled": true
   },
   "outputs": [],
   "source": [
    "!pip install ipykernel==6.29.5\n",
    "!pip install unsloth==2025.4.3\n",
    "!pip install unsloth-zoo==2025.4.2\n",
    "!pip install torch==2.7.0+cu121 --index-url https://download.pytorch.org/whl/cu121\n",
    "!pip install gdown==5.2.0\n",
    "!pip install huggingface_hub==0.30.2\n",
    "!pip install wandb==0.19.9  # Optional\n",
    "!pip install bitsandbytes==0.45.5\n",
    "!pip install transformers==4.51.3"
   ]
  },
  {
   "cell_type": "code",
   "execution_count": 4,
   "metadata": {},
   "outputs": [
    {
     "name": "stdout",
     "output_type": "stream",
     "text": [
      "🦥 Unsloth: Will patch your computer to enable 2x faster free finetuning.\n",
      "🦥 Unsloth Zoo will now patch everything to make training faster!\n",
      "✅ [CHECKPOINT] Imports successful\n"
     ]
    }
   ],
   "source": [
    "# Import libraries\n",
    "import torch\n",
    "device = 'cuda' if torch.cuda.is_available() else 'cpu'\n",
    "\n",
    "import time\n",
    "start_time = time.time()\n",
    "\n",
    "import os\n",
    "import random\n",
    "import json\n",
    "import numpy as np\n",
    "from collections import defaultdict\n",
    "\n",
    "try:\n",
    "    from unsloth.chat_templates import get_chat_template\n",
    "    from unsloth import FastLanguageModel, is_bfloat16_supported\n",
    "    from trl import SFTTrainer, DPOTrainer\n",
    "    from peft import PeftModel\n",
    "    from datasets import load_dataset\n",
    "    from transformers import (\n",
    "        AutoTokenizer, \n",
    "        TrainingArguments, \n",
    "        TextStreamer,\n",
    "        AutoModelForCausalLM,\n",
    "    )\n",
    "    print(\"✅ [CHECKPOINT] Imports successful\")\n",
    "except ImportError as e:\n",
    "    print(f\"❌ ImportError: {e}\")\n",
    "    raise"
   ]
  },
  {
   "cell_type": "code",
   "execution_count": 5,
   "metadata": {},
   "outputs": [
    {
     "name": "stdout",
     "output_type": "stream",
     "text": [
      "CUDA available: True\n",
      "Using device: cuda\n",
      "GPU Info:\n",
      "- Device count: 1\n",
      "- Current device: 0\n",
      "- Device name: NVIDIA GeForce RTX 3090\n"
     ]
    }
   ],
   "source": [
    "# Check CUDA\n",
    "print(\"CUDA available:\", torch.cuda.is_available())\n",
    "device = 'cuda' if torch.cuda.is_available() else 'cpu'\n",
    "print(f\"Using device: {device}\")\n",
    "\n",
    "if torch.cuda.is_available():\n",
    "    print(\"GPU Info:\")\n",
    "    print(f\"- Device count: {torch.cuda.device_count()}\")\n",
    "    print(f\"- Current device: {torch.cuda.current_device()}\")\n",
    "    print(f\"- Device name: {torch.cuda.get_device_name(0)}\")"
   ]
  },
  {
   "cell_type": "code",
   "execution_count": 6,
   "metadata": {},
   "outputs": [
    {
     "name": "stdout",
     "output_type": "stream",
     "text": [
      "✅ [CHECKPOINT] Seed set\n"
     ]
    }
   ],
   "source": [
    "# Seed for reproducibility\n",
    "def set_seed(seed=1):\n",
    "    os.environ['PYTHONHASHSEED'] = str(seed)\n",
    "    random.seed(seed)\n",
    "    np.random.seed(seed)\n",
    "    torch.manual_seed(seed)\n",
    "    if torch.cuda.is_available():\n",
    "        torch.cuda.manual_seed(seed)\n",
    "        torch.cuda.manual_seed_all(seed)\n",
    "        torch.backends.cudnn.deterministic = True\n",
    "        torch.backends.cudnn.benchmark = False\n",
    "\n",
    "set_seed(1)\n",
    "print(\"✅ [CHECKPOINT] Seed set\")"
   ]
  },
  {
   "cell_type": "markdown",
   "metadata": {},
   "source": [
    "## Load Model\n",
    "Load model utilizing Unsloth's optimized loading."
   ]
  },
  {
   "cell_type": "code",
   "execution_count": 7,
   "metadata": {},
   "outputs": [
    {
     "name": "stdout",
     "output_type": "stream",
     "text": [
      "Loading model - this may take a moment...\n",
      "==((====))==  Unsloth 2025.4.3: Fast Llama patching. Transformers: 4.51.3.\n",
      "   \\\\   /|    NVIDIA GeForce RTX 3090. Num GPUs = 1. Max memory: 23.684 GB. Platform: Linux.\n",
      "O^O/ \\_/ \\    Torch: 2.7.0+cu126. CUDA: 8.6. CUDA Toolkit: 12.6. Triton: 3.3.0\n",
      "\\        /    Bfloat16 = TRUE. FA [Xformers = 0.0.30. FA2 = False]\n",
      " \"-____-\"     Free license: http://github.com/unslothai/unsloth\n",
      "Unsloth: Fast downloading is enabled - ignore downloading bars which are red colored!\n"
     ]
    },
    {
     "name": "stderr",
     "output_type": "stream",
     "text": [
      "Xet Storage is enabled for this repo, but the 'hf_xet' package is not installed. Falling back to regular HTTP download. For better performance, install the package with: `pip install huggingface_hub[hf_xet]` or `pip install hf_xet`\n"
     ]
    },
    {
     "data": {
      "application/vnd.jupyter.widget-view+json": {
       "model_id": "51ca65d26ae247568101be4862571521",
       "version_major": 2,
       "version_minor": 0
      },
      "text/plain": [
       "model.safetensors:   0%|          | 0.00/1.10G [00:00<?, ?B/s]"
      ]
     },
     "metadata": {},
     "output_type": "display_data"
    },
    {
     "data": {
      "application/vnd.jupyter.widget-view+json": {
       "model_id": "ce706d34211340ea9cb0a8c4d187a037",
       "version_major": 2,
       "version_minor": 0
      },
      "text/plain": [
       "generation_config.json:   0%|          | 0.00/230 [00:00<?, ?B/s]"
      ]
     },
     "metadata": {},
     "output_type": "display_data"
    },
    {
     "data": {
      "application/vnd.jupyter.widget-view+json": {
       "model_id": "bcb010ee4887436cbe0c689c4d93e344",
       "version_major": 2,
       "version_minor": 0
      },
      "text/plain": [
       "tokenizer_config.json:   0%|          | 0.00/50.6k [00:00<?, ?B/s]"
      ]
     },
     "metadata": {},
     "output_type": "display_data"
    },
    {
     "name": "stderr",
     "output_type": "stream",
     "text": [
      "Xet Storage is enabled for this repo, but the 'hf_xet' package is not installed. Falling back to regular HTTP download. For better performance, install the package with: `pip install huggingface_hub[hf_xet]` or `pip install hf_xet`\n"
     ]
    },
    {
     "data": {
      "application/vnd.jupyter.widget-view+json": {
       "model_id": "ebd36ed6461b442ca67f2d29748a00cf",
       "version_major": 2,
       "version_minor": 0
      },
      "text/plain": [
       "tokenizer.json:   0%|          | 0.00/17.2M [00:00<?, ?B/s]"
      ]
     },
     "metadata": {},
     "output_type": "display_data"
    },
    {
     "data": {
      "application/vnd.jupyter.widget-view+json": {
       "model_id": "a37a242686574810be962fcb705ba7c3",
       "version_major": 2,
       "version_minor": 0
      },
      "text/plain": [
       "special_tokens_map.json:   0%|          | 0.00/459 [00:00<?, ?B/s]"
      ]
     },
     "metadata": {},
     "output_type": "display_data"
    },
    {
     "name": "stdout",
     "output_type": "stream",
     "text": [
      "✅ [CHECKPOINT] Model loaded in 106.70s\n",
      "Model config: LlamaConfig {\n",
      "  \"_attn_implementation_autoset\": true,\n",
      "  \"architectures\": [\n",
      "    \"LlamaForCausalLM\"\n",
      "  ],\n",
      "  \"attention_bias\": false,\n",
      "  \"attention_dropout\": 0.0,\n",
      "  \"bos_token_id\": 128000,\n",
      "  \"eos_token_id\": 128001,\n",
      "  \"head_dim\": 64,\n",
      "  \"hidden_act\": \"silu\",\n",
      "  \"hidden_size\": 2048,\n",
      "  \"initializer_range\": 0.02,\n",
      "  \"intermediate_size\": 8192,\n",
      "  \"max_position_embeddings\": 131072,\n",
      "  \"mlp_bias\": false,\n",
      "  \"model_type\": \"llama\",\n",
      "  \"num_attention_heads\": 32,\n",
      "  \"num_hidden_layers\": 16,\n",
      "  \"num_key_value_heads\": 8,\n",
      "  \"pad_token_id\": 128004,\n",
      "  \"pretraining_tp\": 1,\n",
      "  \"quantization_config\": {\n",
      "    \"bnb_4bit_compute_dtype\": \"bfloat16\",\n",
      "    \"bnb_4bit_quant_type\": \"nf4\",\n",
      "    \"bnb_4bit_use_double_quant\": true,\n",
      "    \"llm_int8_enable_fp32_cpu_offload\": false,\n",
      "    \"llm_int8_has_fp16_weight\": false,\n",
      "    \"llm_int8_skip_modules\": null,\n",
      "    \"llm_int8_threshold\": 6.0,\n",
      "    \"load_in_4bit\": true,\n",
      "    \"load_in_8bit\": false,\n",
      "    \"quant_method\": \"bitsandbytes\"\n",
      "  },\n",
      "  \"rms_norm_eps\": 1e-05,\n",
      "  \"rope_scaling\": {\n",
      "    \"factor\": 32.0,\n",
      "    \"high_freq_factor\": 4.0,\n",
      "    \"low_freq_factor\": 1.0,\n",
      "    \"original_max_position_embeddings\": 8192,\n",
      "    \"rope_type\": \"llama3\"\n",
      "  },\n",
      "  \"rope_theta\": 500000.0,\n",
      "  \"tie_word_embeddings\": true,\n",
      "  \"torch_dtype\": \"bfloat16\",\n",
      "  \"transformers_version\": \"4.51.3\",\n",
      "  \"unsloth_fixed\": true,\n",
      "  \"unsloth_version\": \"2025.4.3\",\n",
      "  \"use_cache\": true,\n",
      "  \"vocab_size\": 128256\n",
      "}\n",
      "\n"
     ]
    }
   ],
   "source": [
    "print(\"Loading model - this may take a moment...\")\n",
    "model_load_start = time.time()\n",
    "\n",
    "max_seq_length = 2048\n",
    "dtype = None\n",
    "load_in_4bit = True\n",
    "\n",
    "try:\n",
    "    model, tokenizer = FastLanguageModel.from_pretrained(\n",
    "        model_name=\"unsloth/Llama-3.2-1B-unsloth-bnb-4bit\",\n",
    "        max_seq_length=max_seq_length,\n",
    "        load_in_4bit=load_in_4bit,\n",
    "        dtype=dtype,\n",
    "    )\n",
    "    print(f\"✅ [CHECKPOINT] Model loaded in {time.time() - model_load_start:.2f}s\")\n",
    "    print(\"Model config:\", model.config)\n",
    "except Exception as e:\n",
    "    print(f\"❌ Failed to load model: {e}\")\n",
    "    raise"
   ]
  },
  {
   "cell_type": "markdown",
   "metadata": {},
   "source": [
    "## Setup PEFT/LoRA\n",
    "Configure model for Parameter-Efficient Fine-Tuning using LoRA."
   ]
  },
  {
   "cell_type": "code",
   "execution_count": 8,
   "metadata": {},
   "outputs": [
    {
     "name": "stderr",
     "output_type": "stream",
     "text": [
      "Unsloth: Dropout = 0 is supported for fast patching. You are using dropout = 0.05.\n",
      "Unsloth will patch all other layers, except LoRA matrices, causing a performance hit.\n",
      "Unsloth 2025.4.3 patched 16 layers with 0 QKV layers, 0 O layers and 0 MLP layers.\n"
     ]
    },
    {
     "name": "stdout",
     "output_type": "stream",
     "text": [
      "✅ [CHECKPOINT] PEFT model created in 2.37s\n"
     ]
    }
   ],
   "source": [
    "peft_start = time.time()\n",
    "model = FastLanguageModel.get_peft_model(\n",
    "    model,\n",
    "    r=32,\n",
    "    lora_alpha=64,\n",
    "    lora_dropout=0.05,\n",
    "    target_modules=[\"q_proj\", \"k_proj\", \"v_proj\", \"o_proj\"],\n",
    "    use_rslora=True,\n",
    "    use_gradient_checkpointing=True\n",
    ")\n",
    "print(f\"✅ [CHECKPOINT] PEFT model created in {time.time() - peft_start:.2f}s\")"
   ]
  },
  {
   "cell_type": "markdown",
   "metadata": {},
   "source": [
    "## Prepare Dataset\n",
    "Prepare the Alpaca dataset for fine-tuning."
   ]
  },
  {
   "cell_type": "code",
   "execution_count": 9,
   "metadata": {},
   "outputs": [],
   "source": [
    "\n",
    "# Prepare dataset formatting function\n",
    "alpaca_prompt = \"\"\"Below is an instruction that describes a task, paired with an input that provides further context. Write a response that appropriately completes the request.\n",
    "\n",
    "### Instruction:\n",
    "{}\n",
    "\n",
    "### Input:\n",
    "{}\n",
    "\n",
    "### Response:\"\"\"\n",
    "\n",
    "EOS_TOKEN = tokenizer.eos_token\n",
    "\n",
    "def formatting_prompts_func(examples):\n",
    "    \n",
    "    instructions = examples[\"instruction\"]\n",
    "    inputs = examples[\"input\"]\n",
    "    outputs = examples[\"output\"]\n",
    "    texts = []\n",
    "    \n",
    "    for instruction, input_text, output in zip(instructions, inputs, outputs):\n",
    "        text = alpaca_prompt.format(instruction, input_text)\n",
    "        if random.random() < 0.2:\n",
    "            ws = random.choice([\" \", \"\\n\", \"\\n\\n\", \"\\n \\n\", \"  \"])\n",
    "            text = text + ws + output + EOS_TOKEN\n",
    "        else:   \n",
    "            text = text + '\\n' + output + EOS_TOKEN\n",
    "        texts.append(text)\n",
    "    return {\"text\": texts} "
   ]
  },
  {
   "cell_type": "code",
   "execution_count": 10,
   "metadata": {},
   "outputs": [
    {
     "name": "stdout",
     "output_type": "stream",
     "text": [
      "Loading dataset...\n"
     ]
    },
    {
     "data": {
      "application/vnd.jupyter.widget-view+json": {
       "model_id": "ca912e9ec9e84fa8b2ac3fc40e76dd7c",
       "version_major": 2,
       "version_minor": 0
      },
      "text/plain": [
       "README.md:   0%|          | 0.00/11.6k [00:00<?, ?B/s]"
      ]
     },
     "metadata": {},
     "output_type": "display_data"
    },
    {
     "name": "stderr",
     "output_type": "stream",
     "text": [
      "Xet Storage is enabled for this repo, but the 'hf_xet' package is not installed. Falling back to regular HTTP download. For better performance, install the package with: `pip install huggingface_hub[hf_xet]` or `pip install hf_xet`\n"
     ]
    },
    {
     "data": {
      "application/vnd.jupyter.widget-view+json": {
       "model_id": "ea38109727c54082a46a3eb7ca9b6851",
       "version_major": 2,
       "version_minor": 0
      },
      "text/plain": [
       "alpaca_data_cleaned.json:   0%|          | 0.00/44.3M [00:00<?, ?B/s]"
      ]
     },
     "metadata": {},
     "output_type": "display_data"
    },
    {
     "data": {
      "application/vnd.jupyter.widget-view+json": {
       "model_id": "466dc7580a2b42b7be341b2c7dffeafc",
       "version_major": 2,
       "version_minor": 0
      },
      "text/plain": [
       "Generating train split:   0%|          | 0/51760 [00:00<?, ? examples/s]"
      ]
     },
     "metadata": {},
     "output_type": "display_data"
    },
    {
     "data": {
      "application/vnd.jupyter.widget-view+json": {
       "model_id": "f1277ef8ce07460badf4d6dfab4c2ed9",
       "version_major": 2,
       "version_minor": 0
      },
      "text/plain": [
       "Map:   0%|          | 0/30000 [00:00<?, ? examples/s]"
      ]
     },
     "metadata": {},
     "output_type": "display_data"
    },
    {
     "name": "stdout",
     "output_type": "stream",
     "text": [
      "✅ [CHECKPOINT] Dataset loaded and processed in 8.43s with 30000 examples\n",
      "\n",
      "Sample from dataset:\n",
      "Below is an instruction that describes a task, paired with an input that provides further context. Write a response that appropriately completes the request.\n",
      "\n",
      "### Instruction:\n",
      "Give three tips for staying healthy.\n",
      "\n",
      "### Input:\n",
      "\n",
      "\n",
      "### Response:\n",
      "1. Eat a balanced and nutritious diet: Make sure your meals are inclusive of a variety of fruits and vegetables, lean protein, whole grains, and healthy fats. This helps to provide your body with the essential nutrients to function at its best and can help pr...\n",
      "Filtered dataset size: 30000 (original had ~52k)\n"
     ]
    }
   ],
   "source": [
    "# Load and process the dataset\n",
    "dataset_start = time.time()\n",
    "print(\"Loading dataset...\")\n",
    "\n",
    "try:\n",
    "    dataset = load_dataset(\"yahma/alpaca-cleaned\", split=\"train[:30000]\")\n",
    "    dataset = dataset.map(formatting_prompts_func, batched=True)\n",
    "    print(f\"✅ [CHECKPOINT] Dataset loaded and processed in {time.time() - dataset_start:.2f}s with {len(dataset)} examples\")\n",
    "    \n",
    "    # Display a sample\n",
    "    print(\"\\nSample from dataset:\")\n",
    "    print(dataset[0][\"text\"][:500] + \"...\")\n",
    "\n",
    "\n",
    "    print(f\"Filtered dataset size: {len(dataset)} (original had ~52k)\")\n",
    "except Exception as e:\n",
    "    print(f\"❌ Failed to load/process dataset: {e}\")\n",
    "    raise"
   ]
  },
  {
   "cell_type": "code",
   "execution_count": 11,
   "metadata": {},
   "outputs": [
    {
     "name": "stdout",
     "output_type": "stream",
     "text": [
      "Below is an instruction that describes a task, paired with an input that provides further context. Write a response that appropriately completes the request.\n",
      "\n",
      "### Instruction:\n",
      "Output which of the 3 figures is biggest.\n",
      "\n",
      "### Input:\n",
      "Figure 1 is 27 cm, Figure 2 is 15 cm, and Figure 3 is 10 cm\n",
      "\n",
      "### Response:\n",
      "Based on the given input, Figure 1 is the biggest with a size of 27 cm.<|end_of_text|>\n"
     ]
    }
   ],
   "source": [
    "print(dataset[4040][\"text\"][:1000])"
   ]
  },
  {
   "cell_type": "markdown",
   "metadata": {},
   "source": [
    "## Configure Training\n",
    "Set up the training configuration using SFTTrainer."
   ]
  },
  {
   "cell_type": "code",
   "execution_count": 12,
   "metadata": {},
   "outputs": [
    {
     "data": {
      "application/vnd.jupyter.widget-view+json": {
       "model_id": "f68000f6ae6c435b8c3a1a44c7aea935",
       "version_major": 2,
       "version_minor": 0
      },
      "text/plain": [
       "Unsloth: Tokenizing [\"text\"] (num_proc=12):   0%|          | 0/30000 [00:00<?, ? examples/s]"
      ]
     },
     "metadata": {},
     "output_type": "display_data"
    },
    {
     "name": "stderr",
     "output_type": "stream",
     "text": [
      "Detected kernel version 5.4.0, which is below the recommended minimum of 5.5.0; this can cause the process to hang. It is recommended to upgrade the kernel to the minimum version or higher.\n"
     ]
    },
    {
     "name": "stdout",
     "output_type": "stream",
     "text": [
      "Unsloth: Hugging Face's packing is currently buggy - we're disabling it for now!\n",
      "✅ [MAXIMUM PERFORMANCE CONFIG] Trainer configured for optimal quality training\n"
     ]
    }
   ],
   "source": [
    "# Configure the SFT Trainer\n",
    "output_dir = \"./outputs\"\n",
    "\n",
    "trainer = SFTTrainer(\n",
    "    model=model,\n",
    "    tokenizer=tokenizer,\n",
    "    train_dataset=dataset,\n",
    "    dataset_text_field=\"text\",\n",
    "    max_seq_length=2048,\n",
    "    dataset_num_proc=12,\n",
    "    packing=True,\n",
    "    args=TrainingArguments(\n",
    "        per_device_train_batch_size=2,\n",
    "        gradient_accumulation_steps=16,\n",
    "        warmup_steps=100,\n",
    "        num_train_epochs=2.0,\n",
    "        learning_rate=1e-5,\n",
    "        fp16=not is_bfloat16_supported(),\n",
    "        bf16=is_bfloat16_supported(),\n",
    "        logging_steps=50,\n",
    "        logging_first_step=True,\n",
    "        optim=\"adamw_8bit\",\n",
    "        weight_decay=0.02,\n",
    "        lr_scheduler_type=\"cosine\",\n",
    "        seed=3407,\n",
    "        output_dir=output_dir,\n",
    "        report_to=\"none\",\n",
    "        save_strategy=\"steps\",\n",
    "        save_steps=100,\n",
    "        gradient_checkpointing=True,\n",
    "        max_grad_norm=0.3,\n",
    "        dataloader_num_workers=8,\n",
    "        dataloader_pin_memory=True,\n",
    "    ),\n",
    ")\n",
    "\n",
    "print(\"✅ [MAXIMUM PERFORMANCE CONFIG] Trainer configured for optimal quality training\")"
   ]
  },
  {
   "cell_type": "markdown",
   "metadata": {},
   "source": [
    "## Train the Model\n",
    "Start the training process."
   ]
  },
  {
   "cell_type": "code",
   "execution_count": 13,
   "metadata": {},
   "outputs": [
    {
     "name": "stderr",
     "output_type": "stream",
     "text": [
      "==((====))==  Unsloth - 2x faster free finetuning | Num GPUs used = 1\n",
      "   \\\\   /|    Num examples = 30,000 | Num Epochs = 2 | Total steps = 1,874\n",
      "O^O/ \\_/ \\    Batch size per device = 2 | Gradient accumulation steps = 16\n",
      "\\        /    Data Parallel GPUs = 1 | Total batch size (2 x 16 x 1) = 32\n",
      " \"-____-\"     Trainable parameters = 6,815,744/1,000,000,000 (0.68% trained)\n"
     ]
    },
    {
     "name": "stdout",
     "output_type": "stream",
     "text": [
      "Unsloth: Will smartly offload gradients to save VRAM!\n"
     ]
    },
    {
     "data": {
      "text/html": [
       "\n",
       "    <div>\n",
       "      \n",
       "      <progress value='1874' max='1874' style='width:300px; height:20px; vertical-align: middle;'></progress>\n",
       "      [1874/1874 1:17:41, Epoch 1/2]\n",
       "    </div>\n",
       "    <table border=\"1\" class=\"dataframe\">\n",
       "  <thead>\n",
       " <tr style=\"text-align: left;\">\n",
       "      <th>Step</th>\n",
       "      <th>Training Loss</th>\n",
       "    </tr>\n",
       "  </thead>\n",
       "  <tbody>\n",
       "    <tr>\n",
       "      <td>1</td>\n",
       "      <td>1.951700</td>\n",
       "    </tr>\n",
       "    <tr>\n",
       "      <td>50</td>\n",
       "      <td>1.841900</td>\n",
       "    </tr>\n",
       "    <tr>\n",
       "      <td>100</td>\n",
       "      <td>1.322200</td>\n",
       "    </tr>\n",
       "    <tr>\n",
       "      <td>150</td>\n",
       "      <td>1.239400</td>\n",
       "    </tr>\n",
       "    <tr>\n",
       "      <td>200</td>\n",
       "      <td>1.228900</td>\n",
       "    </tr>\n",
       "    <tr>\n",
       "      <td>250</td>\n",
       "      <td>1.217400</td>\n",
       "    </tr>\n",
       "    <tr>\n",
       "      <td>300</td>\n",
       "      <td>1.208300</td>\n",
       "    </tr>\n",
       "    <tr>\n",
       "      <td>350</td>\n",
       "      <td>1.198300</td>\n",
       "    </tr>\n",
       "    <tr>\n",
       "      <td>400</td>\n",
       "      <td>1.205500</td>\n",
       "    </tr>\n",
       "    <tr>\n",
       "      <td>450</td>\n",
       "      <td>1.189900</td>\n",
       "    </tr>\n",
       "    <tr>\n",
       "      <td>500</td>\n",
       "      <td>1.189300</td>\n",
       "    </tr>\n",
       "    <tr>\n",
       "      <td>550</td>\n",
       "      <td>1.182400</td>\n",
       "    </tr>\n",
       "    <tr>\n",
       "      <td>600</td>\n",
       "      <td>1.191400</td>\n",
       "    </tr>\n",
       "    <tr>\n",
       "      <td>650</td>\n",
       "      <td>1.200600</td>\n",
       "    </tr>\n",
       "    <tr>\n",
       "      <td>700</td>\n",
       "      <td>1.183700</td>\n",
       "    </tr>\n",
       "    <tr>\n",
       "      <td>750</td>\n",
       "      <td>1.179500</td>\n",
       "    </tr>\n",
       "    <tr>\n",
       "      <td>800</td>\n",
       "      <td>1.188500</td>\n",
       "    </tr>\n",
       "    <tr>\n",
       "      <td>850</td>\n",
       "      <td>1.189300</td>\n",
       "    </tr>\n",
       "    <tr>\n",
       "      <td>900</td>\n",
       "      <td>1.169800</td>\n",
       "    </tr>\n",
       "    <tr>\n",
       "      <td>950</td>\n",
       "      <td>1.169000</td>\n",
       "    </tr>\n",
       "    <tr>\n",
       "      <td>1000</td>\n",
       "      <td>1.185500</td>\n",
       "    </tr>\n",
       "    <tr>\n",
       "      <td>1050</td>\n",
       "      <td>1.171300</td>\n",
       "    </tr>\n",
       "    <tr>\n",
       "      <td>1100</td>\n",
       "      <td>1.159000</td>\n",
       "    </tr>\n",
       "    <tr>\n",
       "      <td>1150</td>\n",
       "      <td>1.165900</td>\n",
       "    </tr>\n",
       "    <tr>\n",
       "      <td>1200</td>\n",
       "      <td>1.170000</td>\n",
       "    </tr>\n",
       "    <tr>\n",
       "      <td>1250</td>\n",
       "      <td>1.177300</td>\n",
       "    </tr>\n",
       "    <tr>\n",
       "      <td>1300</td>\n",
       "      <td>1.146800</td>\n",
       "    </tr>\n",
       "    <tr>\n",
       "      <td>1350</td>\n",
       "      <td>1.158900</td>\n",
       "    </tr>\n",
       "    <tr>\n",
       "      <td>1400</td>\n",
       "      <td>1.176300</td>\n",
       "    </tr>\n",
       "    <tr>\n",
       "      <td>1450</td>\n",
       "      <td>1.165800</td>\n",
       "    </tr>\n",
       "    <tr>\n",
       "      <td>1500</td>\n",
       "      <td>1.158200</td>\n",
       "    </tr>\n",
       "    <tr>\n",
       "      <td>1550</td>\n",
       "      <td>1.162700</td>\n",
       "    </tr>\n",
       "    <tr>\n",
       "      <td>1600</td>\n",
       "      <td>1.154800</td>\n",
       "    </tr>\n",
       "    <tr>\n",
       "      <td>1650</td>\n",
       "      <td>1.160600</td>\n",
       "    </tr>\n",
       "    <tr>\n",
       "      <td>1700</td>\n",
       "      <td>1.165700</td>\n",
       "    </tr>\n",
       "    <tr>\n",
       "      <td>1750</td>\n",
       "      <td>1.162500</td>\n",
       "    </tr>\n",
       "    <tr>\n",
       "      <td>1800</td>\n",
       "      <td>1.160800</td>\n",
       "    </tr>\n",
       "    <tr>\n",
       "      <td>1850</td>\n",
       "      <td>1.165200</td>\n",
       "    </tr>\n",
       "  </tbody>\n",
       "</table><p>"
      ],
      "text/plain": [
       "<IPython.core.display.HTML object>"
      ]
     },
     "metadata": {},
     "output_type": "display_data"
    },
    {
     "name": "stdout",
     "output_type": "stream",
     "text": [
      "✅ [CHECKPOINT] Training completed in 4668.25s\n",
      "Training stats: TrainOutput(global_step=1874, training_loss=1.2012812039768175, metrics={'train_runtime': 4666.9355, 'train_samples_per_second': 12.856, 'train_steps_per_second': 0.402, 'total_flos': 9.26512933243945e+16, 'train_loss': 1.2012812039768175})\n"
     ]
    }
   ],
   "source": [
    "# Train the model\n",
    "train_start = time.time()\n",
    "\n",
    "try:\n",
    "    trainer_stats = trainer.train()\n",
    "    print(f\"✅ [CHECKPOINT] Training completed in {time.time() - train_start:.2f}s\")\n",
    "    print(f\"Training stats: {trainer_stats}\")\n",
    "except Exception as e:\n",
    "    print(f\"❌ Training failed: {e}\")\n",
    "    raise"
   ]
  },
  {
   "cell_type": "markdown",
   "metadata": {},
   "source": [
    "## Save the Model\n",
    "Save the trained LoRA adapter."
   ]
  },
  {
   "cell_type": "code",
   "execution_count": 14,
   "metadata": {},
   "outputs": [
    {
     "name": "stdout",
     "output_type": "stream",
     "text": [
      "✅ [CHECKPOINT] SFT model adapter saved in 0.49s\n"
     ]
    }
   ],
   "source": [
    "# Save adapter\n",
    "save_start = time.time()\n",
    "sft_adapter_path = \"./outputs/sft_lora_adapter\"\n",
    "\n",
    "try:\n",
    "    model.save_pretrained(\n",
    "        sft_adapter_path,\n",
    "        save_adapter=True,\n",
    "        save_config=True\n",
    "    )\n",
    "    print(f\"✅ [CHECKPOINT] SFT model adapter saved in {time.time() - save_start:.2f}s\")\n",
    "except Exception as e:\n",
    "    print(f\"❌ Failed to save model: {e}\")\n",
    "    raise"
   ]
  },
  {
   "cell_type": "markdown",
   "metadata": {},
   "source": [
    "## Test the Fine-Tuned Model\n",
    "We can test our fine-tuned model with a sample prompt."
   ]
  },
  {
   "cell_type": "code",
   "execution_count": 15,
   "metadata": {},
   "outputs": [
    {
     "name": "stdout",
     "output_type": "stream",
     "text": [
      "Testing fine-tuned model with a sample prompt...\n",
      "==((====))==  Unsloth 2025.4.3: Fast Llama patching. Transformers: 4.51.3.\n",
      "   \\\\   /|    NVIDIA GeForce RTX 3090. Num GPUs = 1. Max memory: 23.684 GB. Platform: Linux.\n",
      "O^O/ \\_/ \\    Torch: 2.7.0+cu126. CUDA: 8.6. CUDA Toolkit: 12.6. Triton: 3.3.0\n",
      "\\        /    Bfloat16 = TRUE. FA [Xformers = 0.0.30. FA2 = False]\n",
      " \"-____-\"     Free license: http://github.com/unslothai/unsloth\n",
      "Unsloth: Fast downloading is enabled - ignore downloading bars which are red colored!\n",
      "\n",
      "Prompt:\n",
      " Below is an instruction that describes a task. Write a response that appropriately completes the request.\n",
      "\n",
      "### Instruction:\n",
      "Explain the concept of fine-tuning in machine learning.\n",
      "\n",
      "### Response:\n",
      "\n",
      "\n",
      "Generated Response:\n",
      "Fine-tuning is a technique used in machine learning to improve the performance of a model by adjusting its parameters to fit the specific task at hand. It involves adjusting the parameters of the model, such as the weights and biases, to make it more effective at solving the problem at hand. This is done by using a process called \"hyperparameter tuning\" which involves experimenting with different values for the hyperparameters and selecting the one that provides the best results. \n",
      "\n",
      "Fine-tuning can be applied to a wide range of machine learning models, including neural networks, decision trees, and support vector machines. It can be used to improve the model's accuracy, speed, and robustness to various types of data. By fine-tuning a model, the user can ensure that the model is tailored to the specific task and can be applied to new data sets with confidence.<|end_of_text|>\n"
     ]
    }
   ],
   "source": [
    "# Test the fine-tuned model\n",
    "print(\"Testing fine-tuned model with a sample prompt...\")\n",
    "\n",
    "try:\n",
    "    # Load the adapter onto a fresh model instance\n",
    "    test_model, test_tokenizer = FastLanguageModel.from_pretrained(\n",
    "        model_name=\"unsloth/Llama-3.2-1B-unsloth-bnb-4bit\",\n",
    "        max_seq_length=max_seq_length,\n",
    "        load_in_4bit=load_in_4bit\n",
    "    )\n",
    "    \n",
    "    # Load the PEFT adapter\n",
    "    test_model = PeftModel.from_pretrained(test_model, sft_adapter_path)\n",
    "    \n",
    "    # Create a text streamer for nice output\n",
    "    streamer = TextStreamer(test_tokenizer, skip_prompt=True)\n",
    "    \n",
    "    # Sample prompt\n",
    "    test_prompt = \"\"\"Below is an instruction that describes a task. Write a response that appropriately completes the request.\n",
    "\n",
    "### Instruction:\n",
    "Explain the concept of fine-tuning in machine learning.\n",
    "\n",
    "### Response:\n",
    "\"\"\"\n",
    "    \n",
    "    print(\"\\nPrompt:\\n\", test_prompt)\n",
    "    print(\"\\nGenerated Response:\")\n",
    "    \n",
    "    # Generate response\n",
    "    inputs = test_tokenizer(test_prompt, return_tensors=\"pt\").to(device)\n",
    "    \n",
    "    output = test_model.generate(\n",
    "        **inputs,\n",
    "        max_new_tokens=256,\n",
    "        use_cache=True,\n",
    "        streamer=streamer\n",
    "    )\n",
    "except Exception as e:\n",
    "    print(f\"❌ Testing failed: {e}\")"
   ]
  },
  {
   "cell_type": "markdown",
   "metadata": {},
   "source": [
    "## Set up Evaluation\n",
    "Now we'll set up a comprehensive evaluation comparing our fine-tuned model against the base model using a judge model."
   ]
  },
  {
   "cell_type": "code",
   "execution_count": 76,
   "metadata": {},
   "outputs": [
    {
     "name": "stdout",
     "output_type": "stream",
     "text": [
      "Loading models for evaluation...\n",
      "Loading base model\n",
      "==((====))==  Unsloth 2025.4.3: Fast Llama patching. Transformers: 4.51.3.\n",
      "   \\\\   /|    NVIDIA GeForce RTX 3090. Num GPUs = 1. Max memory: 23.684 GB. Platform: Linux.\n",
      "O^O/ \\_/ \\    Torch: 2.7.0+cu126. CUDA: 8.6. CUDA Toolkit: 12.6. Triton: 3.3.0\n",
      "\\        /    Bfloat16 = TRUE. FA [Xformers = 0.0.30. FA2 = False]\n",
      " \"-____-\"     Free license: http://github.com/unslothai/unsloth\n",
      "Unsloth: Fast downloading is enabled - ignore downloading bars which are red colored!\n",
      "Loading SFT model\n",
      "==((====))==  Unsloth 2025.4.3: Fast Llama patching. Transformers: 4.51.3.\n",
      "   \\\\   /|    NVIDIA GeForce RTX 3090. Num GPUs = 1. Max memory: 23.684 GB. Platform: Linux.\n",
      "O^O/ \\_/ \\    Torch: 2.7.0+cu126. CUDA: 8.6. CUDA Toolkit: 12.6. Triton: 3.3.0\n",
      "\\        /    Bfloat16 = TRUE. FA [Xformers = 0.0.30. FA2 = False]\n",
      " \"-____-\"     Free license: http://github.com/unslothai/unsloth\n",
      "Unsloth: Fast downloading is enabled - ignore downloading bars which are red colored!\n",
      "Loading judge model\n",
      "==((====))==  Unsloth 2025.4.3: Fast Llama patching. Transformers: 4.51.3.\n",
      "   \\\\   /|    NVIDIA GeForce RTX 3090. Num GPUs = 1. Max memory: 23.684 GB. Platform: Linux.\n",
      "O^O/ \\_/ \\    Torch: 2.7.0+cu126. CUDA: 8.6. CUDA Toolkit: 12.6. Triton: 3.3.0\n",
      "\\        /    Bfloat16 = TRUE. FA [Xformers = 0.0.30. FA2 = False]\n",
      " \"-____-\"     Free license: http://github.com/unslothai/unsloth\n",
      "Unsloth: Fast downloading is enabled - ignore downloading bars which are red colored!\n",
      "✅ [CHECKPOINT] Evaluation models loaded\n"
     ]
    }
   ],
   "source": [
    "# Set up evaluation\n",
    "eval_start = time.time()\n",
    "\n",
    "print(\"Loading models for evaluation...\")\n",
    "\n",
    "def load_base_model():\n",
    "    print(\"Loading base model\")\n",
    "    try:\n",
    "        model, tokenizer = FastLanguageModel.from_pretrained(\n",
    "            model_name=\"unsloth/Llama-3.2-1B-unsloth-bnb-4bit\",\n",
    "            max_seq_length=1024,\n",
    "            load_in_4bit=True,\n",
    "            dtype=None,\n",
    "        )\n",
    "        return model, tokenizer\n",
    "    except Exception as e:\n",
    "        print(f\"❌ Failed to load base model: {e}\")\n",
    "        raise\n",
    "\n",
    "def load_sft_model():\n",
    "    print(\"Loading SFT model\")\n",
    "    try:\n",
    "        base_model, tokenizer = FastLanguageModel.from_pretrained(\n",
    "            model_name=\"unsloth/Llama-3.2-1B-unsloth-bnb-4bit\",\n",
    "            max_seq_length=1024,\n",
    "            load_in_4bit=True,\n",
    "            dtype=None,\n",
    "        )\n",
    "        peft_model = PeftModel.from_pretrained(base_model, sft_adapter_path)\n",
    "        return peft_model, tokenizer\n",
    "    except Exception as e:\n",
    "        print(f\"❌ Failed to load SFT model: {e}\")\n",
    "        raise\n",
    "\n",
    "def load_judge_model():\n",
    "    print(\"Loading judge model\")\n",
    "    try:\n",
    "        model, tokenizer = FastLanguageModel.from_pretrained(\n",
    "            model_name=\"unsloth/Llama-3.1-8B-Instruct-unsloth-bnb-4bit\",\n",
    "            max_seq_length=2048,\n",
    "            load_in_4bit=True,\n",
    "            dtype=None,\n",
    "        )\n",
    "        return model, tokenizer\n",
    "    except Exception as e:\n",
    "        print(f\"❌ Failed to load judge model: {e}\")\n",
    "        raise\n",
    "\n",
    "try:\n",
    "    base_model, base_tokenizer = load_base_model()\n",
    "    sft_model, sft_tokenizer = load_sft_model()\n",
    "    judge_model, judge_tokenizer = load_judge_model()\n",
    "    print(\"✅ [CHECKPOINT] Evaluation models loaded\")\n",
    "except Exception as e:\n",
    "    print(f\"❌ Failed to load evaluation models: {e}\")\n",
    "    raise"
   ]
  },
  {
   "cell_type": "markdown",
   "metadata": {},
   "source": [
    "## Run Comparative Evaluation\n",
    "Let's run a comparative evaluation between the base model and our fine-tuned model."
   ]
  },
  {
   "cell_type": "code",
   "execution_count": 17,
   "metadata": {},
   "outputs": [],
   "source": [
    "import time\n",
    "import torch\n",
    "from datasets import load_dataset\n",
    "\n",
    "# Define helper functions for evaluation\n",
    "def format_prompt(instruction):\n",
    "    return f\"\"\"Below is an instruction that describes a task. Write a response that completes the request. You will be judged on the following criteria:\n",
    "    1. **Objectivity**: How objective and formal the tone is. \n",
    "    2. **Instruction Following**: How well the response directly addresses the instruction's requirements.\n",
    "    3. **Specificity**: How specific and long the response is.\n",
    "    4. **Clarity**: How readable and coherent the response is, with no extraneous characters.\n",
    "    5. **Accuracy**: Factual correctness and logical consistency.\n",
    "    6. **Helpfulness**: Practicality and usefulness of the response.\n",
    "\n",
    "### Instruction:\n",
    "{instruction}\n",
    "\n",
    "### Response:\"\"\"\n",
    "\n",
    "def generate_response(model, tokenizer, prompt):\n",
    "    inputs = tokenizer(\n",
    "        prompt, \n",
    "        return_tensors=\"pt\", \n",
    "        truncation=True, \n",
    "        max_length=2048,\n",
    "    ).to(\"cuda\")\n",
    "    \n",
    "    with torch.no_grad():\n",
    "        outputs = model.generate(\n",
    "            **inputs,\n",
    "            max_new_tokens=256,\n",
    "            temperature=0.7,\n",
    "            top_p=0.9,\n",
    "            top_k=50,\n",
    "            do_sample=True,\n",
    "            pad_token_id=tokenizer.eos_token_id,\n",
    "            repetition_penalty=1.2,\n",
    "        )\n",
    "    \n",
    "    full_response = tokenizer.decode(outputs[0], skip_special_tokens=True)\n",
    "    # Remove the prompt from the response\n",
    "    return full_response[len(prompt):].strip()"
   ]
  },
  {
   "cell_type": "code",
   "execution_count": 18,
   "metadata": {
    "jupyter": {
     "source_hidden": true
    }
   },
   "outputs": [
    {
     "name": "stdout",
     "output_type": "stream",
     "text": [
      "Loading evaluation dataset...\n"
     ]
    },
    {
     "data": {
      "application/vnd.jupyter.widget-view+json": {
       "model_id": "73df6009dd9246368486c90e094bc696",
       "version_major": 2,
       "version_minor": 0
      },
      "text/plain": [
       "README.md:   0%|          | 0.00/30.0 [00:00<?, ?B/s]"
      ]
     },
     "metadata": {},
     "output_type": "display_data"
    },
    {
     "data": {
      "application/vnd.jupyter.widget-view+json": {
       "model_id": "fe44d47207d048479c9bdc4f0bcb0203",
       "version_major": 2,
       "version_minor": 0
      },
      "text/plain": [
       "alpaca_eval.py:   0%|          | 0.00/8.09k [00:00<?, ?B/s]"
      ]
     },
     "metadata": {},
     "output_type": "display_data"
    },
    {
     "data": {
      "application/vnd.jupyter.widget-view+json": {
       "model_id": "752649dc71ac475cb9d5e493f4b1a356",
       "version_major": 2,
       "version_minor": 0
      },
      "text/plain": [
       "alpaca_eval.json:   0%|          | 0.00/621k [00:00<?, ?B/s]"
      ]
     },
     "metadata": {},
     "output_type": "display_data"
    },
    {
     "name": "stdout",
     "output_type": "stream",
     "text": [
      "/root/.cache/huggingface/hub/datasets--tatsu-lab--alpaca_eval/snapshots/2edc6fad8be6b14ea7230aabfd08188da6b8b814/alpaca_eval.json\n"
     ]
    },
    {
     "data": {
      "application/vnd.jupyter.widget-view+json": {
       "model_id": "95f3f17e402442b897b2384b9d06e9d2",
       "version_major": 2,
       "version_minor": 0
      },
      "text/plain": [
       "Generating eval split: 0 examples [00:00, ? examples/s]"
      ]
     },
     "metadata": {},
     "output_type": "display_data"
    },
    {
     "name": "stdout",
     "output_type": "stream",
     "text": [
      "Loaded evaluation dataset with 500 examples\n"
     ]
    }
   ],
   "source": [
    "def get_judgment(instruction, sft_response, base_response):\n",
    "    prompt = f\"\"\"You are an impartial judge evaluating two responses to an instruction. Score based on the following criteria, ignoring the order of the responses, prioritizing these metrics:\n",
    "\n",
    "1. **Objectivity**: How objective and formal the tone is.\n",
    "2. **Instruction Following**: How well the response directly addresses the instruction's requirements.\n",
    "3. **Specificity**: How specific and long the response is.\n",
    "4. **Clarity**: How readable and coherent the response is, with no extraneous characters.\n",
    "5. **Accuracy**: Factual correctness and logical consistency.\n",
    "6. **Helpfulness**: Practicality and usefulness of the response.\n",
    "\n",
    "\n",
    "**Special Rule**: If the First Response (SFT Model) is empty, irrelevant, or fails to provide any meaningful answer, score the Second Response (Base Model) as significantly better unless it is also empty or irrelevant.\n",
    "\n",
    "Return ONLY a single number:\n",
    "1 = First response (SFT Model) is significantly better\n",
    "2 = Second response (Base Model) is significantly better\n",
    "0 = Both are comparable (similar quality or minor differences)\n",
    "\n",
    "Instruction:\n",
    "{instruction}\n",
    "\n",
    "First Response (SFT Model):\n",
    "{sft_response}\n",
    "\n",
    "Second Response (Base Model):\n",
    "{base_response}\n",
    "\n",
    "Judgment (1/2/0):\"\"\"\n",
    "    \n",
    "    inputs = judge_tokenizer(\n",
    "        prompt,\n",
    "        return_tensors=\"pt\",\n",
    "        max_length=2048,\n",
    "        truncation=True\n",
    "    ).to(\"cuda\")\n",
    "    \n",
    "    with torch.no_grad():\n",
    "        outputs = judge_model.generate(\n",
    "            **inputs,\n",
    "            max_new_tokens=3,\n",
    "            temperature=0.0,\n",
    "            do_sample=False,\n",
    "        )\n",
    "    \n",
    "    verdict = judge_tokenizer.decode(outputs[0], skip_special_tokens=True)\n",
    "    # Extract the last valid digit from the response\n",
    "    verdict_digits = [c for c in verdict.strip() if c.isdigit()]\n",
    "    return int(verdict_digits[-1]) if verdict_digits else 0\n",
    "\n",
    "# Load evaluation dataset\n",
    "print(\"Loading evaluation dataset...\")\n",
    "MAX_SAMPLES = 500\n",
    "\n",
    "try:\n",
    "    eval_dataset = load_dataset(\"tatsu-lab/alpaca_eval\", \"alpaca_eval\", trust_remote_code=True)[\"eval\"]\n",
    "    eval_dataset = eval_dataset.shuffle(seed=420).select(range(min(len(eval_dataset), MAX_SAMPLES)))\n",
    "    print(f\"Loaded evaluation dataset with {len(eval_dataset)} examples\")\n",
    "except Exception as e:\n",
    "    print(f\"❌ Failed to load evaluation dataset: {e}\")\n",
    "    raise"
   ]
  },
  {
   "cell_type": "code",
   "execution_count": null,
   "metadata": {
    "jupyter": {
     "source_hidden": true
    },
    "scrolled": true
   },
   "outputs": [],
   "source": [
    "# Run evaluation\n",
    "print(f\"Running evaluation on {len(eval_dataset)} examples...\")\n",
    "eval_start = time.time()\n",
    "results = []\n",
    "cnt = 0\n",
    "empty_check = 0 \n",
    "for i, example in enumerate(eval_dataset):\n",
    "    try:\n",
    "        \n",
    "        print(f\"\\nExample {i+1}/{len(eval_dataset)}\")\n",
    "        if cnt%10==0: print(f\"Evaluating: {example['instruction'][:100]}...\")\n",
    "        \n",
    "        prompt = format_prompt(example[\"instruction\"])\n",
    "        base_response = generate_response(base_model, base_tokenizer, prompt)\n",
    "        sft_response = generate_response(sft_model, sft_tokenizer, prompt)\n",
    "\n",
    "        if cnt%10==0:\n",
    "            print(\"\\nBase Model Response:\")\n",
    "            print(base_response)\n",
    "            print(\"\\nSFT Model Response:\")\n",
    "            print(sft_response)\n",
    "        \n",
    "        # Check for empty or non-meaningful responses\n",
    "        base_empty = not base_response.strip() or len(base_response.strip()) < 5 or base_response.strip().lower() in [\"n/a\", \"none\", \"no response\"]\n",
    "        sft_empty = not sft_response.strip() or len(sft_response.strip()) < 5 or sft_response.strip().lower() in [\"n/a\", \"none\", \"no response\"]\n",
    "\n",
    "        if base_empty:\n",
    "            empty_check += 1\n",
    "        if base_empty and not sft_empty:\n",
    "            verdict = 2\n",
    "            print(\"Base response empty or non-meaningful - verdict: 2 (SFT wins)\")\n",
    "        elif sft_empty and not base_empty:\n",
    "            verdict = 1\n",
    "            print(\"SFT response empty or non-meaningful - verdict: 1 (Base wins)\")\n",
    "        elif base_empty and sft_empty:\n",
    "            verdict = 0\n",
    "            print(\"Both responses empty or non-meaningful - verdict: 0 (tie)\")\n",
    "        elif base_response.strip() == sft_response.strip():\n",
    "            verdict = 0\n",
    "            print(\"Responses identical - verdict: 0 (tie)\")\n",
    "        else:\n",
    "            verdict = get_judgment(example[\"instruction\"], sft_response, base_response)  # Fixed argument order\n",
    "            print(f\"\\nVerdict: {verdict} ({['Tie', 'Base wins', 'SFT wins'][verdict]})\")  # Fixed verdict labels\n",
    "        \n",
    "        results.append({\n",
    "            \"instruction\": example[\"instruction\"],\n",
    "            \"sft_response\": sft_response,\n",
    "            \"base_response\": base_response,\n",
    "            \"verdict\": verdict\n",
    "        })\n",
    "        print(sum(1 for r in results if r[\"verdict\"] == 2), empty_check)\n",
    "        cnt += 1\n",
    "\n",
    "    except Exception as e:\n",
    "        print(f\"Error processing example {i+1}: {e}\")\n",
    "        continue\n",
    "\n",
    "# Calculate and display summary statistics\n",
    "total = len(results)\n",
    "if total > 0:\n",
    "    base_wins = sum(1 for r in results if r[\"verdict\"] == 1)\n",
    "    sft_wins = sum(1 for r in results if r[\"verdict\"] == 2)\n",
    "    ties = sum(1 for r in results if r[\"verdict\"] == 0)\n",
    "    \n",
    "    print(\"\\n=== Evaluation Summary ===\")\n",
    "    print(f\"Total examples evaluated: {total}\")\n",
    "    print(f\"Base Model wins: {base_wins} ({base_wins/total:.1%})\")\n",
    "    print(f\"SFT Model wins: {sft_wins} ({sft_wins/total:.1%})\")\n",
    "    print(f\"Ties: {ties} ({ties/total:.1%})\")\n",
    "    print('empty response:' ,empty_check)\n",
    "\n",
    "print(f\"\\n✅ Evaluation completed in {time.time() - eval_start:.2f}s\")"
   ]
  },
  {
   "cell_type": "markdown",
   "metadata": {},
   "source": [
    "## Analyze SFT Results\n",
    "We can analyze and save the evaluation results."
   ]
  },
  {
   "cell_type": "code",
   "execution_count": 20,
   "metadata": {
    "jupyter": {
     "source_hidden": true
    }
   },
   "outputs": [
    {
     "name": "stdout",
     "output_type": "stream",
     "text": [
      "\n",
      "=== SFT Evaluation Summary ===\n",
      "Total examples evaluated: 500\n",
      "Base Model wins: 127 (25.4%)\n",
      "SFT Model wins: 309 (61.8%)\n",
      "Ties: 64 (12.8%)\n",
      "✅ [CHECKPOINT] DPO results saved to ./outputs/alpacaeval_sft_results.json\n"
     ]
    }
   ],
   "source": [
    "# Calculate statistics\n",
    "verdicts = [r[\"verdict\"] for r in results]  # Changed from sft_results to results to match variable name\n",
    "sft_stats = {\n",
    "    \"base_wins\": sum(1 for v in verdicts if v == 1),  # Using sum() to match evaluation code style\n",
    "    \"sft_wins\": sum(1 for v in verdicts if v == 2),\n",
    "    \"ties\": sum(1 for v in verdicts if v == 0),\n",
    "    \"total\": len(verdicts),\n",
    "    \"sft_win_rate\": sum(1 for v in verdicts if v == 2) / len(verdicts) if verdicts else 0,\n",
    "}\n",
    "\n",
    "# Print summary statistics\n",
    "print(\"\\n=== SFT Evaluation Summary ===\")\n",
    "print(f\"Total examples evaluated: {sft_stats['total']}\")\n",
    "print(f\"Base Model wins: {sft_stats['base_wins']} ({sft_stats['base_wins']/sft_stats['total']:.1%})\")\n",
    "print(f\"SFT Model wins: {sft_stats['sft_wins']} ({sft_stats['sft_wins']/sft_stats['total']:.1%})\")\n",
    "print(f\"Ties: {sft_stats['ties']} ({sft_stats['ties']/sft_stats['total']:.1%})\")\n",
    "\n",
    "# Save results\n",
    "\n",
    "sft_output_file = \"./outputs/alpacaeval_sft_results.json\"\n",
    "\n",
    "with open(sft_output_file, \"w\") as f:\n",
    "    json.dump({\n",
    "        \"statistics\": sft_stats,\n",
    "        \"results\": results,\n",
    "        \"config\": {\n",
    "            \"base_model\": \"unsloth/Llama-3.2-1B-unsloth-bnb-4bit\",\n",
    "            \"sft_adapter\": \"/output/sft_lora_adapter\",\n",
    "            \"judge_model\": \"unsloth/Llama-3.2-8B-Instruct-unsloth-bnb-4bit\",\n",
    "            \"num_samples\": len(results)\n",
    "        }\n",
    "    }, f, indent=2)\n",
    "\n",
    "print(f\"✅ [CHECKPOINT] DPO results saved to {sft_output_file}\")"
   ]
  },
  {
   "cell_type": "markdown",
   "metadata": {},
   "source": [
    "## Prepare for DPO Training\n",
    "Prepare for Direct Preference Optimization (DPO) training using the SFT model as our starting point."
   ]
  },
  {
   "cell_type": "code",
   "execution_count": 22,
   "metadata": {
    "collapsed": true,
    "jupyter": {
     "outputs_hidden": true,
     "source_hidden": true
    }
   },
   "outputs": [
    {
     "name": "stdout",
     "output_type": "stream",
     "text": [
      "Loading SFT model for DPO training...\n",
      "==((====))==  Unsloth 2025.4.3: Fast Llama patching. Transformers: 4.51.3.\n",
      "   \\\\   /|    NVIDIA GeForce RTX 3090. Num GPUs = 1. Max memory: 23.684 GB. Platform: Linux.\n",
      "O^O/ \\_/ \\    Torch: 2.7.0+cu126. CUDA: 8.6. CUDA Toolkit: 12.6. Triton: 3.3.0\n",
      "\\        /    Bfloat16 = TRUE. FA [Xformers = 0.0.30. FA2 = False]\n",
      " \"-____-\"     Free license: http://github.com/unslothai/unsloth\n",
      "Unsloth: Fast downloading is enabled - ignore downloading bars which are red colored!\n",
      "==((====))==  Unsloth 2025.4.3: Fast Llama patching. Transformers: 4.51.3.\n",
      "   \\\\   /|    NVIDIA GeForce RTX 3090. Num GPUs = 1. Max memory: 23.684 GB. Platform: Linux.\n",
      "O^O/ \\_/ \\    Torch: 2.7.0+cu126. CUDA: 8.6. CUDA Toolkit: 12.6. Triton: 3.3.0\n",
      "\\        /    Bfloat16 = TRUE. FA [Xformers = 0.0.30. FA2 = False]\n",
      " \"-____-\"     Free license: http://github.com/unslothai/unsloth\n",
      "Unsloth: Fast downloading is enabled - ignore downloading bars which are red colored!\n",
      "✅ [CHECKPOINT] DPO models loaded\n"
     ]
    }
   ],
   "source": [
    "# Load the SFT model as our policy model\n",
    "print(\"Loading SFT model for DPO training...\")\n",
    "\n",
    "try:\n",
    "    dpo_model, dpo_tokenizer = FastLanguageModel.from_pretrained(\n",
    "        model_name=\"unsloth/Llama-3.2-1B-unsloth-bnb-4bit\",\n",
    "        max_seq_length=max_seq_length,\n",
    "        load_in_4bit=True,\n",
    "        dtype=None,\n",
    "    )\n",
    "    \n",
    "    dpo_model = PeftModel.from_pretrained(dpo_model, sft_adapter_path)\n",
    "    \n",
    "    ref_model, _ = FastLanguageModel.from_pretrained(\n",
    "        model_name=\"unsloth/Llama-3.2-1B-unsloth-bnb-4bit\",\n",
    "        max_seq_length=max_seq_length,\n",
    "        load_in_4bit=True,\n",
    "        dtype=None,\n",
    "    )\n",
    "    \n",
    "    print(\"✅ [CHECKPOINT] DPO models loaded\")\n",
    "except Exception as e:\n",
    "    print(f\"❌ Failed to load DPO models: {e}\")\n",
    "    raise"
   ]
  },
  {
   "cell_type": "code",
   "execution_count": 25,
   "metadata": {
    "collapsed": true,
    "jupyter": {
     "outputs_hidden": true,
     "source_hidden": true
    },
    "scrolled": true
   },
   "outputs": [
    {
     "name": "stdout",
     "output_type": "stream",
     "text": [
      "Loading preference dataset for DPO...\n"
     ]
    },
    {
     "data": {
      "application/vnd.jupyter.widget-view+json": {
       "model_id": "9a0d363f0fd445159decae7436ceeb33",
       "version_major": 2,
       "version_minor": 0
      },
      "text/plain": [
       "README.md:   0%|          | 0.00/196 [00:00<?, ?B/s]"
      ]
     },
     "metadata": {},
     "output_type": "display_data"
    },
    {
     "name": "stderr",
     "output_type": "stream",
     "text": [
      "Xet Storage is enabled for this repo, but the 'hf_xet' package is not installed. Falling back to regular HTTP download. For better performance, install the package with: `pip install huggingface_hub[hf_xet]` or `pip install hf_xet`\n"
     ]
    },
    {
     "data": {
      "application/vnd.jupyter.widget-view+json": {
       "model_id": "add7704a078745f4a5373a56f5153c6f",
       "version_major": 2,
       "version_minor": 0
      },
      "text/plain": [
       "orca_rlhf.jsonl:   0%|          | 0.00/36.3M [00:00<?, ?B/s]"
      ]
     },
     "metadata": {},
     "output_type": "display_data"
    },
    {
     "data": {
      "application/vnd.jupyter.widget-view+json": {
       "model_id": "4373a3e2711b4ac49f6161223fcb399a",
       "version_major": 2,
       "version_minor": 0
      },
      "text/plain": [
       "Generating train split:   0%|          | 0/12859 [00:00<?, ? examples/s]"
      ]
     },
     "metadata": {},
     "output_type": "display_data"
    },
    {
     "data": {
      "application/vnd.jupyter.widget-view+json": {
       "model_id": "d7e9e639c99c453a9909336b042a5fd2",
       "version_major": 2,
       "version_minor": 0
      },
      "text/plain": [
       "Map:   0%|          | 0/4000 [00:00<?, ? examples/s]"
      ]
     },
     "metadata": {},
     "output_type": "display_data"
    },
    {
     "data": {
      "application/vnd.jupyter.widget-view+json": {
       "model_id": "6a085a29442b4ce9941885f6c2bbed9b",
       "version_major": 2,
       "version_minor": 0
      },
      "text/plain": [
       "Filter:   0%|          | 0/4000 [00:00<?, ? examples/s]"
      ]
     },
     "metadata": {},
     "output_type": "display_data"
    },
    {
     "name": "stdout",
     "output_type": "stream",
     "text": [
      "Loaded DPO dataset with 1709 examples (from target of 4000)\n",
      "\n",
      "Sample from DPO dataset:\n",
      "Prompt: You are an AI assistant. You will be given a task. You must generate a detailed and long answer.\n",
      "Generate an approximately fifteen-word sentence that describes all this data: Midsummer House eatType restaurant; Midsummer House food Chinese; Midsummer House priceRange moderate; Midsummer House customer rating 3 out of 5; Midsummer House near All Bar One\n",
      "Chosen response: Midsummer House is a moderately priced Chinese restaurant with a 3/5 customer rating, located near All Bar One.\n",
      "Rejected response:  Sure! Here's a sentence that describes all the data you provided:\n",
      "\n",
      "\"Midsummer House is a moderately priced Chinese restaurant with a customer rating of 3 out of 5, located near All Bar One, offering a variety of delicious dishes.\"\n",
      "\n",
      "Dataset Statistics:\n",
      "Average prompt length: 585.5 chars\n",
      "Average chosen response length: 665.2 chars\n",
      "Average rejected response length: 764.5 chars\n"
     ]
    },
    {
     "data": {
      "application/vnd.jupyter.widget-view+json": {
       "model_id": "9a130bbd0d2c45e7bb1a2cc9fe630f9d",
       "version_major": 2,
       "version_minor": 0
      },
      "text/plain": [
       "Map (num_proc=4):   0%|          | 0/1709 [00:00<?, ? examples/s]"
      ]
     },
     "metadata": {},
     "output_type": "display_data"
    },
    {
     "name": "stdout",
     "output_type": "stream",
     "text": [
      "✅ Dataset tokenized successfully\n"
     ]
    }
   ],
   "source": [
    "\n",
    "\n",
    "\n",
    "# Load preference dataset for DPO\n",
    "print(\"Loading preference dataset for DPO...\")\n",
    "try:\n",
    "    NUM_EXAMPLES = 4000\n",
    "    \n",
    "    # Load dataset\n",
    "    dataset = load_dataset(\"Intel/orca_dpo_pairs\")\n",
    "    \n",
    "    # Use specified number of examples for training\n",
    "    dpo_dataset = dataset[\"train\"].select(range(min(NUM_EXAMPLES, len(dataset[\"train\"]))))\n",
    "    \n",
    "    # Format the dataset for DPO and perform validation\n",
    "    def format_dpo_example(example):\n",
    "        if not example[\"system\"]:\n",
    "            system = \"You are a helpful assistant.\"\n",
    "        else:\n",
    "            system = example[\"system\"]\n",
    "            \n",
    "        return {\n",
    "            \"prompt\": system + '\\n' +example['question'],\n",
    "            \"chosen\": example[\"chosen\"],\n",
    "            \"rejected\": example[\"rejected\"],\n",
    "        }\n",
    "\n",
    "            \n",
    "    def filter_valid_examples(example):\n",
    "        if not example[\"chosen\"].strip() or not example[\"rejected\"].strip():\n",
    "            return False\n",
    "        if len(example[\"question\"]) > 2000:  # ~512 tokens\n",
    "            return False\n",
    "        if np.abs(len(example['rejected']) - len(example['chosen'])) > 400:\n",
    "            return False\n",
    "        return True\n",
    "    \n",
    "    # Format dataset\n",
    "    dpo_dataset = dpo_dataset.map(format_dpo_example)\n",
    "    dpo_dataset = dpo_dataset.filter(filter_valid_examples)\n",
    "    \n",
    "    print(f\"Loaded DPO dataset with {len(dpo_dataset)} examples (from target of {NUM_EXAMPLES})\")\n",
    "    \n",
    "    # Display a sample\n",
    "    print(\"\\nSample from DPO dataset:\")\n",
    "    print(\"Prompt:\", dpo_dataset[0][\"prompt\"][:500] + \"...\" if len(dpo_dataset[0][\"prompt\"]) > 500 else dpo_dataset[0][\"prompt\"])\n",
    "    print(\"Chosen response:\", dpo_dataset[0][\"chosen\"][:500] + \"...\" if len(dpo_dataset[0][\"chosen\"]) > 500 else dpo_dataset[0][\"chosen\"])\n",
    "    print(\"Rejected response:\", dpo_dataset[0][\"rejected\"][:500] + \"...\" if len(dpo_dataset[0][\"rejected\"]) > 500 else dpo_dataset[0][\"rejected\"])\n",
    "    \n",
    "    # Dataset statistics\n",
    "    prompt_lengths = [len(example[\"prompt\"]) for example in dpo_dataset]\n",
    "    chosen_lengths = [len(example[\"chosen\"]) for example in dpo_dataset]\n",
    "    rejected_lengths = [len(example[\"rejected\"]) for example in dpo_dataset]\n",
    "    \n",
    "    print(\"\\nDataset Statistics:\")\n",
    "    print(f\"Average prompt length: {sum(prompt_lengths)/len(prompt_lengths):.1f} chars\")\n",
    "    print(f\"Average chosen response length: {sum(chosen_lengths)/len(chosen_lengths):.1f} chars\")\n",
    "    print(f\"Average rejected response length: {sum(rejected_lengths)/len(rejected_lengths):.1f} chars\")\n",
    "    \n",
    "    # Pre-tokenize the dataset for DPOTrainer\n",
    "    def tokenize_dataset(example):\n",
    "        # Tokenize prompt\n",
    "        prompt_tokens = dpo_tokenizer(example[\"prompt\"], truncation=True, max_length=256, padding=False)\n",
    "        \n",
    "        # Tokenize chosen and rejected responses\n",
    "        chosen_tokens = dpo_tokenizer(example[\"chosen\"], truncation=True, max_length=max_seq_length, padding=False)\n",
    "        rejected_tokens = dpo_tokenizer(example[\"rejected\"], truncation=True, max_length=max_seq_length, padding=False)\n",
    "        \n",
    "        return {\n",
    "            \"prompt\": example[\"prompt\"],\n",
    "            \"chosen\": example[\"chosen\"],\n",
    "            \"rejected\": example[\"rejected\"],\n",
    "            \"input_ids\": prompt_tokens[\"input_ids\"],\n",
    "            \"attention_mask\": prompt_tokens[\"attention_mask\"],\n",
    "            \"chosen_input_ids\": chosen_tokens[\"input_ids\"],\n",
    "            \"chosen_attention_mask\": chosen_tokens[\"attention_mask\"],\n",
    "            \"rejected_input_ids\": rejected_tokens[\"input_ids\"],\n",
    "            \"rejected_attention_mask\": rejected_tokens[\"attention_mask\"],\n",
    "        }\n",
    "        \n",
    "    tokenized_dataset = dpo_dataset.map(\n",
    "        tokenize_dataset,\n",
    "        batched=False,\n",
    "        num_proc=4,\n",
    "    )\n",
    "    \n",
    "    print(\"✅ Dataset tokenized successfully\")\n",
    "    \n",
    "except Exception as e:\n",
    "    print(f\"❌ Failed to load/process DPO dataset: {e}\")\n",
    "    raise"
   ]
  },
  {
   "cell_type": "code",
   "execution_count": 26,
   "metadata": {
    "collapsed": true,
    "jupyter": {
     "outputs_hidden": true
    }
   },
   "outputs": [
    {
     "data": {
      "text/plain": [
       "{'system': 'You are a helpful assistant, who always provide explanation. Think like you are answering to a five year old.',\n",
       " 'question': 'What happens next in this paragraph?\\n\\nShe then rubs a needle on a cotton ball then pushing it onto a pencil and wrapping thread around it. She then holds up a box of a product and then pouring several liquids into a bowl. she\\nChoose your answer from: A. adds saucepan and shakes up the product in a grinder. B. pinches the thread to style a cigarette, and then walks away. C. then dips the needle in ink and using the pencil to draw a design on her leg, rubbing it off with a rag in the end. D. begins to style her hair and cuts it several times before parting the ends of it to show the hairstyle she has created.',\n",
       " 'chosen': 'C. She then dips the needle in ink and using the pencil to draw a design on her leg, rubbing it off with a rag in the end. In this option, she is continuing the process of using the needle, pencil, and thread, which is most related to what she was doing in the previous sentence.',\n",
       " 'rejected': \" Ooh, let me think! *giggle* Okay, I know what happens next! *excitedly* The person in the story... *pauses and looks around* Oh, it's the person who... *giggles*... who puts the needle on the pencil and wraps the thread around it! *excitedly* Yes, that's right! *nods head* So, the answer is... *drumroll* C! *giggles* The person dips the needle in ink and uses the pencil to draw a design on her leg, rubbing it off with a rag in the end! *excitedly* Does that sound right? *giggles*\",\n",
       " 'prompt': 'You are a helpful assistant, who always provide explanation. Think like you are answering to a five year old.\\nWhat happens next in this paragraph?\\n\\nShe then rubs a needle on a cotton ball then pushing it onto a pencil and wrapping thread around it. She then holds up a box of a product and then pouring several liquids into a bowl. she\\nChoose your answer from: A. adds saucepan and shakes up the product in a grinder. B. pinches the thread to style a cigarette, and then walks away. C. then dips the needle in ink and using the pencil to draw a design on her leg, rubbing it off with a rag in the end. D. begins to style her hair and cuts it several times before parting the ends of it to show the hairstyle she has created.'}"
      ]
     },
     "execution_count": 26,
     "metadata": {},
     "output_type": "execute_result"
    }
   ],
   "source": [
    "dpo_dataset[1]"
   ]
  },
  {
   "cell_type": "code",
   "execution_count": 27,
   "metadata": {
    "collapsed": true,
    "jupyter": {
     "outputs_hidden": true,
     "source_hidden": true
    }
   },
   "outputs": [
    {
     "name": "stdout",
     "output_type": "stream",
     "text": [
      "Below is an instruction that describes a task. Write a response that completes the request. You will be judged on the following criteria:\n",
      "    1. **Objectivity**: How objective and formal the tone is. \n",
      "    2. **Instruction Following**: How well the response directly addresses the instruction's requirements.\n",
      "    3. **Specificity**: How specific and long the response is.\n",
      "    4. **Clarity**: How readable and coherent the response is, with no extraneous characters.\n",
      "    5. **Accuracy**: Factual correctness and logical consistency.\n",
      "    6. **Helpfulness**: Practicality and usefulness of the response.\n",
      "\n",
      "### Instruction:\n",
      "What color is the sky\n",
      "\n",
      "### Response:\n",
      "\n",
      "Step 1:\n",
      "1: ' '  (P=0.3691)\n",
      "2: ' The'  (P=0.2871)\n",
      "3: ' \n",
      "'  (P=0.1055)\n",
      "4: ' Blue'  (P=0.0388)\n",
      "5: ' **'  (P=0.0267)\n",
      "6: ' \n",
      "\n",
      "'  (P=0.0267)\n",
      "7: '  '  (P=0.0111)\n",
      "8: ' It'  (P=0.0077)\n",
      "9: ' A'  (P=0.0067)\n",
      "10: ' Green'  (P=0.0067)\n",
      "\n",
      "Step 2:\n",
      "1: ' The'  (P=0.6055)\n",
      "2: ' Blue'  (P=0.1348)\n",
      "3: ' **'  (P=0.0342)\n",
      "4: ' Green'  (P=0.0300)\n",
      "5: ' It'  (P=0.0161)\n",
      "6: ' Sky'  (P=0.0142)\n",
      "7: ' '  (P=0.0098)\n",
      "8: ' A'  (P=0.0076)\n",
      "9: ' In'  (P=0.0067)\n",
      "10: '\t'  (P=0.0052)\n",
      "\n",
      "Step 3:\n",
      "1: ' sky'  (P=0.7656)\n",
      "2: ' color'  (P=0.1934)\n",
      "3: ' answer'  (P=0.0075)\n",
      "4: ' blue'  (P=0.0035)\n",
      "5: ' clear'  (P=0.0024)\n",
      "6: ' exact'  (P=0.0022)\n",
      "7: ' current'  (P=0.0015)\n",
      "8: ' most'  (P=0.0015)\n",
      "9: ' word'  (P=0.0012)\n",
      "10: ' Sky'  (P=0.0010)\n"
     ]
    }
   ],
   "source": [
    "\n",
    "prompt = format_prompt( eval_dataset['instruction'][10])\n",
    "print(prompt)\n",
    "\n",
    "import torch\n",
    "import torch.nn.functional as F\n",
    "\n",
    "\n",
    "def show_topk_multiple_steps(model, tokenizer, prompt, k=10, steps=3):\n",
    "    model.eval()\n",
    "    input_ids = tokenizer(prompt, return_tensors=\"pt\", add_special_tokens=False)[\"input_ids\"].to(model.device)\n",
    "\n",
    "    for step in range(steps):\n",
    "        with torch.no_grad():\n",
    "            outputs = model(input_ids=input_ids)\n",
    "            logits = outputs.logits  # (B, T, V)\n",
    "\n",
    "        next_token_logits = logits[0, -1, :]  # 마지막 토큰 위치의 logits\n",
    "        probs = F.softmax(next_token_logits, dim=-1)\n",
    "        topk_probs, topk_indices = torch.topk(probs, k)\n",
    "\n",
    "        print(f\"\\nStep {step+1}:\")\n",
    "        for i in range(k):\n",
    "            token = tokenizer.decode([topk_indices[i].item()])\n",
    "            prob = topk_probs[i].item()\n",
    "            print(f\"{i+1}: '{token}'  (P={prob:.4f})\")\n",
    "\n",
    "        # 다음 토큰을 샘플링 or argmax로 선택 (여기선 argmax로)\n",
    "        next_token = topk_indices[0].unsqueeze(0).unsqueeze(0)  # shape: (1,1)\n",
    "        input_ids = torch.cat([input_ids, next_token], dim=1)\n",
    "\n",
    "\n",
    "show_topk_multiple_steps(sft_model, tokenizer, prompt, k=10)"
   ]
  },
  {
   "cell_type": "code",
   "execution_count": 240,
   "metadata": {
    "collapsed": true,
    "jupyter": {
     "outputs_hidden": true,
     "source_hidden": true
    }
   },
   "outputs": [
    {
     "name": "stdout",
     "output_type": "stream",
     "text": [
      "Below is an instruction that describes a task, paired with an input that provides further context. Write a response that appropriately completes the request.\n",
      "\n",
      "### Instruction:\n",
      "You are an AI assistant. You will be given a task. You must generate a detailed and long answer.\n",
      "\n",
      "### Input:\n",
      "I want to test the ability of students to read a passage and answer questions about it. Could you please come up with a good question for the passage \"On the night of December 25, 1991, at 7:32 p.m. Moscow time, after Gorbachev left the Kremlin, the Soviet flag was lowered for the last time, and the Russian tricolor was raised in its place, symbolically marking the end of the Soviet Union. The next day, December 26, 1991, the Council of Republics, the upper chamber of the Union's Supreme Soviet, issued a formal Declaration recognizing that the Soviet Union had ceased to exist as a state and subject of international law, and voted both itself and the Soviet Union out of existence (the other chamber of the Supreme Soviet, the Council of the Union, had been unable to work since December 12, 1991, when the recall of the Russian deputies left it without a quorum). The following day Yeltsin moved into Gorbachev's former office, though the Russian authorities had taken over the suite two days earlier. By December 31, 1991, the few remaining Soviet institutions that had not been taken over by Russia ceased operation, and individual republics assumed the central government's role.\"?\n",
      "The answer to this question is:\n",
      "\n",
      "\n",
      "### Response:\n",
      "\n"
     ]
    }
   ],
   "source": [
    "print(tokenized_dataset['prompt'][27])"
   ]
  },
  {
   "cell_type": "code",
   "execution_count": 125,
   "metadata": {
    "jupyter": {
     "source_hidden": true
    }
   },
   "outputs": [
    {
     "name": "stdout",
     "output_type": "stream",
     "text": [
      "|===========================================================================|\n",
      "|                  PyTorch CUDA memory summary, device ID 0                 |\n",
      "|---------------------------------------------------------------------------|\n",
      "|            CUDA OOMs: 5            |        cudaMalloc retries: 23        |\n",
      "|===========================================================================|\n",
      "|        Metric         | Cur Usage  | Peak Usage | Tot Alloc  | Tot Freed  |\n",
      "|---------------------------------------------------------------------------|\n",
      "| Allocated memory      |  18818 MiB |  23328 MiB | 583072 GiB | 583054 GiB |\n",
      "|       from large pool |  18014 MiB |  22482 MiB | 514296 GiB | 514278 GiB |\n",
      "|       from small pool |    803 MiB |    952 MiB |  68776 GiB |  68775 GiB |\n",
      "|---------------------------------------------------------------------------|\n",
      "| Active memory         |  18818 MiB |  23328 MiB | 583072 GiB | 583054 GiB |\n",
      "|       from large pool |  18014 MiB |  22482 MiB | 514296 GiB | 514278 GiB |\n",
      "|       from small pool |    803 MiB |    952 MiB |  68776 GiB |  68775 GiB |\n",
      "|---------------------------------------------------------------------------|\n",
      "| Requested memory      |  18793 MiB |  23288 MiB | 582768 GiB | 582749 GiB |\n",
      "|       from large pool |  17991 MiB |  22444 MiB | 514026 GiB | 514008 GiB |\n",
      "|       from small pool |    802 MiB |    949 MiB |  68741 GiB |  68740 GiB |\n",
      "|---------------------------------------------------------------------------|\n",
      "| GPU reserved memory   |  19532 MiB |  23788 MiB | 174638 MiB | 155106 MiB |\n",
      "|       from large pool |  18600 MiB |  22980 MiB | 171320 MiB | 152720 MiB |\n",
      "|       from small pool |    932 MiB |    982 MiB |   3318 MiB |   2386 MiB |\n",
      "|---------------------------------------------------------------------------|\n",
      "| Non-releasable memory |      0 B   |      0 B   |      0 B   |      0 B   |\n",
      "|       from large pool |      0 B   |      0 B   |      0 B   |      0 B   |\n",
      "|       from small pool |      0 B   |      0 B   |      0 B   |      0 B   |\n",
      "|---------------------------------------------------------------------------|\n",
      "| Allocations           |   13030    |   16016    |  334607 K  |  334594 K  |\n",
      "|       from large pool |    4652    |    4818    |   79052 K  |   79047 K  |\n",
      "|       from small pool |    8378    |   11933    |  255555 K  |  255546 K  |\n",
      "|---------------------------------------------------------------------------|\n",
      "| Active allocs         |   13030    |   16016    |  334607 K  |  334594 K  |\n",
      "|       from large pool |    4652    |    4818    |   79052 K  |   79047 K  |\n",
      "|       from small pool |    8378    |   11933    |  255555 K  |  255546 K  |\n",
      "|---------------------------------------------------------------------------|\n",
      "| GPU reserved segments |       0    |       0    |       0    |       0    |\n",
      "|       from large pool |       0    |       0    |       0    |       0    |\n",
      "|       from small pool |       0    |       0    |       0    |       0    |\n",
      "|---------------------------------------------------------------------------|\n",
      "| Non-releasable allocs |       0    |       0    |       0    |       0    |\n",
      "|       from large pool |       0    |       0    |       0    |       0    |\n",
      "|       from small pool |       0    |       0    |       0    |       0    |\n",
      "|---------------------------------------------------------------------------|\n",
      "| Oversize allocations  |       0    |       0    |       0    |       0    |\n",
      "|---------------------------------------------------------------------------|\n",
      "| Oversize GPU segments |       0    |       0    |       0    |       0    |\n",
      "|===========================================================================|\n",
      "\n"
     ]
    }
   ],
   "source": [
    "import torch\n",
    "import gc\n",
    "\n",
    "def clear_gpu_memory():\n",
    "    gc.collect()                      # CPU 메모리 회수\n",
    "    torch.cuda.empty_cache()         # GPU 캐시 비우기\n",
    "    torch.cuda.ipc_collect()         # CUDA IPC 핸들 정리 (multi process용)\n",
    "    torch.cuda.synchronize()         # GPU 동기화 (안정적 종료)\n",
    "\n",
    "    # 추가로 GPU 상태 확인하고 싶다면\n",
    "    print(torch.cuda.memory_summary())\n",
    "# 모델 삭제\n",
    "clear_gpu_memory()\n",
    "del dpo_eval_model\n",
    "\n"
   ]
  },
  {
   "cell_type": "code",
   "execution_count": null,
   "metadata": {},
   "outputs": [
    {
     "name": "stdout",
     "output_type": "stream",
     "text": [
      "Loading SFT model for DPO training...\n",
      "==((====))==  Unsloth 2025.4.3: Fast Llama patching. Transformers: 4.51.3.\n",
      "   \\\\   /|    NVIDIA GeForce RTX 3090. Num GPUs = 1. Max memory: 23.684 GB. Platform: Linux.\n",
      "O^O/ \\_/ \\    Torch: 2.7.0+cu126. CUDA: 8.6. CUDA Toolkit: 12.6. Triton: 3.3.0\n",
      "\\        /    Bfloat16 = TRUE. FA [Xformers = 0.0.30. FA2 = False]\n",
      " \"-____-\"     Free license: http://github.com/unslothai/unsloth\n",
      "Unsloth: Fast downloading is enabled - ignore downloading bars which are red colored!\n",
      "==((====))==  Unsloth 2025.4.3: Fast Llama patching. Transformers: 4.51.3.\n",
      "   \\\\   /|    NVIDIA GeForce RTX 3090. Num GPUs = 1. Max memory: 23.684 GB. Platform: Linux.\n",
      "O^O/ \\_/ \\    Torch: 2.7.0+cu126. CUDA: 8.6. CUDA Toolkit: 12.6. Triton: 3.3.0\n",
      "\\        /    Bfloat16 = TRUE. FA [Xformers = 0.0.30. FA2 = False]\n",
      " \"-____-\"     Free license: http://github.com/unslothai/unsloth\n",
      "Unsloth: Fast downloading is enabled - ignore downloading bars which are red colored!\n",
      "✅ [CHECKPOINT] DPO models loaded\n"
     ]
    }
   ],
   "source": [
    "# Load the SFT model as our policy model\n",
    "print(\"Loading SFT model for DPO training...\")\n",
    "\n",
    "try:\n",
    "    dpo_model, dpo_tokenizer = FastLanguageModel.from_pretrained(\n",
    "        model_name=\"unsloth/Llama-3.2-1B-unsloth-bnb-4bit\",\n",
    "        max_seq_length=max_seq_length,\n",
    "        load_in_4bit=True,\n",
    "        dtype=None,\n",
    "    )\n",
    "    \n",
    "    dpo_model = PeftModel.from_pretrained(dpo_model, sft_adapter_path, is_trainable = True)\n",
    "    \n",
    "    ref_model, _ = FastLanguageModel.from_pretrained(\n",
    "        model_name=\"unsloth/Llama-3.2-1B-unsloth-bnb-4bit\",\n",
    "        max_seq_length=max_seq_length,\n",
    "        load_in_4bit=True,\n",
    "        dtype=None,\n",
    "    )\n",
    "    ref_model = PeftModel.from_pretrained(ref_model, sft_adapter_path, is_trainable = False)\n",
    "    \n",
    "\n",
    "    print(\"✅ [CHECKPOINT] DPO models loaded\")\n",
    "except Exception as e:\n",
    "    print(f\"❌ Failed to load DPO models: {e}\")\n",
    "    raise"
   ]
  },
  {
   "cell_type": "markdown",
   "metadata": {},
   "source": [
    "## Configure DPO Training\n",
    "Set up the DPO trainer with appropriate parameters."
   ]
  },
  {
   "cell_type": "code",
   "execution_count": null,
   "metadata": {},
   "outputs": [],
   "source": [
    "from typing import Any, Callable, Literal, Optional, Union\n",
    "class BetaDPOTrainer(DPOTrainer):\n",
    "    def __init__(self, *args, alpha: float = 0.8, momentum: float = 0.9,**kwargs):\n",
    "        super().__init__(*args, **kwargs)\n",
    "        self.alpha = alpha\n",
    "        self.momentum = momentum\n",
    "        self.M0 = 0.0\n",
    "        self.step = 0\n",
    "\n",
    "        self.var = 0.0\n",
    "        self.Mi_history = []\n",
    "        self.M0_history = []\n",
    "        self.sigma_history = []\n",
    "\n",
    "    \n",
    "    def get_batch_loss_metrics(\n",
    "        self,\n",
    "        model,\n",
    "        batch: dict[str, Union[list, torch.LongTensor]],\n",
    "        train_eval: Literal[\"train\", \"eval\"] = \"train\",\n",
    "    ):\n",
    "        \"\"\"Compute the DPO loss and other metrics for the given batch of inputs for train or test.\"\"\"\n",
    "\n",
    "        metrics = {}\n",
    "\n",
    "        model_output = self.concatenated_forward(model, batch)\n",
    "\n",
    "        # if ref_chosen_logps and ref_rejected_logps in batch use them, otherwise use the reference model\n",
    "        if \"ref_chosen_logps\" in batch and \"ref_rejected_logps\" in batch:\n",
    "            ref_chosen_logps = batch[\"ref_chosen_logps\"]\n",
    "            ref_rejected_logps = batch[\"ref_rejected_logps\"]\n",
    "        else:\n",
    "            ref_chosen_logps, ref_rejected_logps = self.compute_ref_log_probs(batch)\n",
    "\n",
    "\n",
    "        Mi = self.beta*(model_output[\"chosen_logps\"] - ref_chosen_logps) - self.beta*(model_output[\"rejected_logps\"] - ref_rejected_logps)\n",
    "        delta = Mi - self.M0\n",
    "        beta_batch = (1 + self.alpha*delta) * self.beta\n",
    "        original_beta = self.beta\n",
    "        \n",
    "\n",
    "        self.M0 = self.momentum*self.M0 + (1-self.momentum)*Mi\n",
    "        delta = Mi - self.M0\n",
    "        self.var = self.momentum * self.var + (1 - self.momentum) * (delta ** 2)\n",
    "        sigma = self.var ** 0.5\n",
    "        \n",
    "        try:\n",
    "            self.beta = beta_batch.item()\n",
    "            #print('beta:',self.beta,'\\n')\n",
    "            losses, chosen_rewards, rejected_rewards = self.dpo_loss(\n",
    "            model_output[\"chosen_logps\"], model_output[\"rejected_logps\"], ref_chosen_logps, ref_rejected_logps\n",
    "            )\n",
    "        finally:\n",
    "            self.beta = original_beta\n",
    "        reward_accuracies = (chosen_rewards > rejected_rewards).float()\n",
    "\n",
    "        if self.args.rpo_alpha is not None:\n",
    "            losses = losses + self.args.rpo_alpha * model_output[\"nll_loss\"]  # RPO loss from V3 of the paper\n",
    "\n",
    "        if self.use_weighting:\n",
    "            losses = losses * model_output[\"policy_weights\"]\n",
    "\n",
    "        if self.aux_loss_enabled:\n",
    "            losses = losses + self.aux_loss_coef * model_output[\"aux_loss\"]\n",
    "        prefix = \"eval_\" if train_eval == \"eval\" else \"\"\n",
    "        metrics[f\"{prefix}rewards/chosen\"] = self.accelerator.gather_for_metrics(chosen_rewards).mean().item()\n",
    "        metrics[f\"{prefix}rewards/rejected\"] = self.accelerator.gather_for_metrics(rejected_rewards).mean().item()\n",
    "        metrics[f\"{prefix}rewards/accuracies\"] = self.accelerator.gather_for_metrics(reward_accuracies).mean().item()\n",
    "        metrics[f\"{prefix}rewards/margins\"] = (\n",
    "            self.accelerator.gather_for_metrics(chosen_rewards - rejected_rewards).mean().item()\n",
    "        )\n",
    "        metrics[f\"{prefix}logps/chosen\"] = (\n",
    "            self.accelerator.gather_for_metrics(model_output[\"chosen_logps\"]).detach().mean().item()\n",
    "        )\n",
    "        metrics[f\"{prefix}logps/rejected\"] = (\n",
    "            self.accelerator.gather_for_metrics(model_output[\"rejected_logps\"]).detach().mean().item()\n",
    "        )\n",
    "        metrics[f\"{prefix}logits/chosen\"] = (\n",
    "            self.accelerator.gather_for_metrics(model_output[\"mean_chosen_logits\"]).detach().mean().item()\n",
    "        )\n",
    "        metrics[f\"{prefix}logits/rejected\"] = (\n",
    "            self.accelerator.gather_for_metrics(model_output[\"mean_rejected_logits\"]).detach().mean().item()\n",
    "        )\n",
    "        if self.args.rpo_alpha is not None:\n",
    "            metrics[f\"{prefix}nll_loss\"] = (\n",
    "                self.accelerator.gather_for_metrics(model_output[\"nll_loss\"]).detach().mean().item()\n",
    "            )\n",
    "        if self.aux_loss_enabled:\n",
    "            metrics[f\"{prefix}aux_loss\"] = (\n",
    "                self.accelerator.gather_for_metrics(model_output[\"aux_loss\"]).detach().mean().item()\n",
    "            )\n",
    "\n",
    "        self.step += 1  \n",
    "        if self.step > 1:\n",
    "            self.Mi_history.append(Mi.item())\n",
    "            self.M0_history.append(self.M0.item())\n",
    "            self.sigma_history.append(sigma.item())\n",
    "            if torch.abs(Mi -self.M0) > 1.5*sigma:\n",
    "                losses = (losses * 0.0).mean()\n",
    "\n",
    "\n",
    "            #print('M0:',self.M0,'\\n', 'sigma:',sigma,'\\n','Mi:', Mi,'\\n', 'steps:', self.step)   \n",
    "            #print('loss:',losses)\n",
    "        \n",
    "        return losses.mean(), metrics\n"
   ]
  },
  {
   "cell_type": "code",
   "execution_count": null,
   "metadata": {},
   "outputs": [
    {
     "name": "stderr",
     "output_type": "stream",
     "text": [
      "Detected kernel version 5.4.0, which is below the recommended minimum of 5.5.0; this can cause the process to hang. It is recommended to upgrade the kernel to the minimum version or higher.\n"
     ]
    },
    {
     "name": "stdout",
     "output_type": "stream",
     "text": [
      "✅ [CHECKPOINT] DPO trainer configured with optimized hyperparameters\n"
     ]
    }
   ],
   "source": [
    "# Configure DPO trainer\n",
    "dpo_output_dir = \"./outputs/beta_dpo_model\"\n",
    "# Define DPO training arguments\n",
    "dpo_training_args = TrainingArguments(\n",
    "    per_device_train_batch_size=1,\n",
    "    gradient_accumulation_steps=2,\n",
    "    warmup_steps=100,\n",
    "    num_train_epochs=1.0,\n",
    "    learning_rate=1e-7,\n",
    "    fp16=not is_bfloat16_supported(),\n",
    "    bf16=is_bfloat16_supported(),\n",
    "    logging_steps=100,\n",
    "    optim=\"adamw_torch\",\n",
    "    weight_decay=0.01,\n",
    "    lr_scheduler_type=\"cosine_with_restarts\",\n",
    "    seed=3407,\n",
    "    output_dir=dpo_output_dir,\n",
    "    report_to=\"none\",\n",
    "    save_strategy=\"steps\",\n",
    "    save_steps=100,\n",
    "    gradient_checkpointing=True,\n",
    "    max_grad_norm=2.0,\n",
    "    dataloader_num_workers=2,\n",
    "    dataloader_pin_memory=True,\n",
    "    group_by_length=True,\n",
    ")\n",
    "\n",
    "\n",
    "dpo_trainer = BetaDPOTrainer(\n",
    "    model=dpo_model,\n",
    "    ref_model=ref_model,\n",
    "    args=dpo_training_args,\n",
    "    beta=0.1,\n",
    "    train_dataset=tokenized_dataset,\n",
    "    tokenizer=dpo_tokenizer,\n",
    "    max_length=max_seq_length,\n",
    "    max_prompt_length=512,\n",
    "    generate_during_eval=True,\n",
    ")\n",
    "print(\"✅ [CHECKPOINT] DPO trainer configured with optimized hyperparameters\")"
   ]
  },
  {
   "cell_type": "markdown",
   "metadata": {},
   "source": [
    "## Run DPO Training\n"
   ]
  },
  {
   "cell_type": "code",
   "execution_count": null,
   "metadata": {
    "jupyter": {
     "source_hidden": true
    },
    "scrolled": true
   },
   "outputs": [
    {
     "name": "stdout",
     "output_type": "stream",
     "text": [
      "Starting DPO training...\n"
     ]
    },
    {
     "name": "stderr",
     "output_type": "stream",
     "text": [
      "==((====))==  Unsloth - 2x faster free finetuning | Num GPUs used = 1\n",
      "   \\\\   /|    Num examples = 1,709 | Num Epochs = 1 | Total steps = 854\n",
      "O^O/ \\_/ \\    Batch size per device = 1 | Gradient accumulation steps = 2\n",
      "\\        /    Data Parallel GPUs = 1 | Total batch size (1 x 2 x 1) = 2\n",
      " \"-____-\"     Trainable parameters = 6,815,744/1,000,000,000 (0.68% trained)\n"
     ]
    },
    {
     "data": {
      "text/html": [
       "\n",
       "    <div>\n",
       "      \n",
       "      <progress value='854' max='854' style='width:300px; height:20px; vertical-align: middle;'></progress>\n",
       "      [854/854 06:35, Epoch 0/1]\n",
       "    </div>\n",
       "    <table border=\"1\" class=\"dataframe\">\n",
       "  <thead>\n",
       " <tr style=\"text-align: left;\">\n",
       "      <th>Step</th>\n",
       "      <th>Training Loss</th>\n",
       "      <th>rewards / chosen</th>\n",
       "      <th>rewards / rejected</th>\n",
       "      <th>rewards / accuracies</th>\n",
       "      <th>rewards / margins</th>\n",
       "      <th>logps / chosen</th>\n",
       "      <th>logps / rejected</th>\n",
       "      <th>logits / chosen</th>\n",
       "      <th>logits / rejected</th>\n",
       "      <th>eval_logits / chosen</th>\n",
       "      <th>eval_logits / rejected</th>\n",
       "      <th>nll_loss</th>\n",
       "      <th>aux_loss</th>\n",
       "    </tr>\n",
       "  </thead>\n",
       "  <tbody>\n",
       "    <tr>\n",
       "      <td>100</td>\n",
       "      <td>0.647900</td>\n",
       "      <td>0.004455</td>\n",
       "      <td>-0.015641</td>\n",
       "      <td>0.580000</td>\n",
       "      <td>0.020096</td>\n",
       "      <td>-208.598618</td>\n",
       "      <td>-214.400970</td>\n",
       "      <td>3.128184</td>\n",
       "      <td>2.950348</td>\n",
       "      <td>0</td>\n",
       "      <td>0</td>\n",
       "      <td>0</td>\n",
       "      <td>0</td>\n",
       "    </tr>\n",
       "    <tr>\n",
       "      <td>200</td>\n",
       "      <td>0.609400</td>\n",
       "      <td>-0.008416</td>\n",
       "      <td>-0.107542</td>\n",
       "      <td>0.860000</td>\n",
       "      <td>0.099126</td>\n",
       "      <td>-217.434692</td>\n",
       "      <td>-214.145935</td>\n",
       "      <td>3.113617</td>\n",
       "      <td>2.962363</td>\n",
       "      <td>No Log</td>\n",
       "      <td>No Log</td>\n",
       "      <td>No Log</td>\n",
       "      <td>No Log</td>\n",
       "    </tr>\n",
       "    <tr>\n",
       "      <td>300</td>\n",
       "      <td>0.566900</td>\n",
       "      <td>-0.022968</td>\n",
       "      <td>-0.203112</td>\n",
       "      <td>0.950000</td>\n",
       "      <td>0.180144</td>\n",
       "      <td>-239.521561</td>\n",
       "      <td>-222.568359</td>\n",
       "      <td>3.130072</td>\n",
       "      <td>2.901041</td>\n",
       "      <td>No Log</td>\n",
       "      <td>No Log</td>\n",
       "      <td>No Log</td>\n",
       "      <td>No Log</td>\n",
       "    </tr>\n",
       "    <tr>\n",
       "      <td>400</td>\n",
       "      <td>0.482900</td>\n",
       "      <td>-0.032602</td>\n",
       "      <td>-0.301385</td>\n",
       "      <td>0.960000</td>\n",
       "      <td>0.268782</td>\n",
       "      <td>-208.493088</td>\n",
       "      <td>-211.050247</td>\n",
       "      <td>3.078838</td>\n",
       "      <td>2.940737</td>\n",
       "      <td>No Log</td>\n",
       "      <td>No Log</td>\n",
       "      <td>No Log</td>\n",
       "      <td>No Log</td>\n",
       "    </tr>\n",
       "    <tr>\n",
       "      <td>500</td>\n",
       "      <td>0.484000</td>\n",
       "      <td>-0.049949</td>\n",
       "      <td>-0.387770</td>\n",
       "      <td>0.970000</td>\n",
       "      <td>0.337820</td>\n",
       "      <td>-247.732498</td>\n",
       "      <td>-237.055954</td>\n",
       "      <td>3.158370</td>\n",
       "      <td>2.942632</td>\n",
       "      <td>No Log</td>\n",
       "      <td>No Log</td>\n",
       "      <td>No Log</td>\n",
       "      <td>No Log</td>\n",
       "    </tr>\n",
       "    <tr>\n",
       "      <td>600</td>\n",
       "      <td>0.450800</td>\n",
       "      <td>-0.052504</td>\n",
       "      <td>-0.451739</td>\n",
       "      <td>0.980000</td>\n",
       "      <td>0.399235</td>\n",
       "      <td>-230.214264</td>\n",
       "      <td>-219.088043</td>\n",
       "      <td>3.087592</td>\n",
       "      <td>2.974669</td>\n",
       "      <td>No Log</td>\n",
       "      <td>No Log</td>\n",
       "      <td>No Log</td>\n",
       "      <td>No Log</td>\n",
       "    </tr>\n",
       "    <tr>\n",
       "      <td>700</td>\n",
       "      <td>0.470600</td>\n",
       "      <td>-0.071975</td>\n",
       "      <td>-0.504307</td>\n",
       "      <td>0.990000</td>\n",
       "      <td>0.432332</td>\n",
       "      <td>-235.959183</td>\n",
       "      <td>-238.452484</td>\n",
       "      <td>3.235324</td>\n",
       "      <td>2.968685</td>\n",
       "      <td>No Log</td>\n",
       "      <td>No Log</td>\n",
       "      <td>No Log</td>\n",
       "      <td>No Log</td>\n",
       "    </tr>\n",
       "    <tr>\n",
       "      <td>800</td>\n",
       "      <td>0.473000</td>\n",
       "      <td>-0.078361</td>\n",
       "      <td>-0.498345</td>\n",
       "      <td>1.000000</td>\n",
       "      <td>0.419984</td>\n",
       "      <td>-223.672180</td>\n",
       "      <td>-223.617630</td>\n",
       "      <td>3.207715</td>\n",
       "      <td>2.932344</td>\n",
       "      <td>No Log</td>\n",
       "      <td>No Log</td>\n",
       "      <td>No Log</td>\n",
       "      <td>No Log</td>\n",
       "    </tr>\n",
       "  </tbody>\n",
       "</table><p>"
      ],
      "text/plain": [
       "<IPython.core.display.HTML object>"
      ]
     },
     "metadata": {},
     "output_type": "display_data"
    },
    {
     "name": "stdout",
     "output_type": "stream",
     "text": [
      "✅ [CHECKPOINT] DPO training completed in 399.65s\n"
     ]
    }
   ],
   "source": [
    "# Train with DPO\n",
    "print(\"Starting DPO training...\")\n",
    "dpo_train_start = time.time()\n",
    "\n",
    "try:\n",
    "    dpo_trainer.train()\n",
    "    print(f\"✅ [CHECKPOINT] DPO training completed in {time.time() - dpo_train_start:.2f}s\")\n",
    "except Exception as e:\n",
    "    print(f\"❌ DPO training failed: {e}\")\n",
    "    raise"
   ]
  },
  {
   "cell_type": "code",
   "execution_count": null,
   "metadata": {},
   "outputs": [
    {
     "data": {
      "image/png": "[encoded data removed]",
      "text/plain": [
       "<Figure size 1200x500 with 1 Axes>"
      ]
     },
     "metadata": {},
     "output_type": "display_data"
    }
   ],
   "source": [
    "import matplotlib.pyplot as plt\n",
    "import numpy as np\n",
    "\n",
    "# trainer 인스턴스\n",
    "trainer = dpo_trainer  # 실제 트레이너 이름 사용\n",
    "\n",
    "steps = np.arange(len(trainer.Mi_history))\n",
    "Mi_vals = np.array(trainer.Mi_history)\n",
    "M0_vals = np.array(trainer.M0_history)\n",
    "sigma_vals = np.array(trainer.sigma_history)\n",
    "\n",
    "UCL = M0_vals + 2 * sigma_vals\n",
    "LCL = M0_vals - 2 * sigma_vals\n",
    "\n",
    "# 이상치 판단\n",
    "is_outlier = (Mi_vals > UCL) | (Mi_vals < LCL)\n",
    "outlier_ratio = 100 * np.sum(is_outlier) / len(Mi_vals)\n",
    "\n",
    "# 시각화\n",
    "plt.figure(figsize=(12, 5))\n",
    "\n",
    "# Mi 점 찍기 (이상치: 빨간색, 정상치: 파란색)\n",
    "plt.scatter(steps[~is_outlier], Mi_vals[~is_outlier], color=\"blue\", s=10, label=\"Mi (normal)\")\n",
    "plt.scatter(steps[is_outlier], Mi_vals[is_outlier], color=\"red\", s=20, label=\"Mi (outlier)\")\n",
    "\n",
    "# 평균 및 경계선\n",
    "plt.plot(steps, M0_vals, label=\"M0 (moving mean)\", color=\"green\", linewidth=1)\n",
    "plt.plot(steps, UCL, label=\"UCL = M0 + 2σ\", color=\"red\", linestyle=\"--\", linewidth=1)\n",
    "plt.plot(steps, LCL, label=\"LCL = M0 - 2σ\", color=\"red\", linestyle=\"--\", linewidth=1)\n",
    "plt.fill_between(steps, LCL, UCL, color='red', alpha=0.1)\n",
    "\n",
    "# 제목 + 이상치 비율 출력\n",
    "plt.title(f\"Control Chart: Margin (Mi) vs Mean ± 2σ\\nOutlier ratio: {outlier_ratio:.2f}%\")\n",
    "plt.xlabel(\"Training Step\")\n",
    "plt.ylabel(\"Margin (Mi)\")\n",
    "plt.legend()\n",
    "plt.grid(True)\n",
    "plt.tight_layout()\n",
    "plt.show()\n"
   ]
  },
  {
   "cell_type": "markdown",
   "metadata": {},
   "source": [
    "## Save DPO Model\n",
    "Save the DPO-trained model adapter."
   ]
  },
  {
   "cell_type": "code",
   "execution_count": null,
   "metadata": {
    "jupyter": {
     "source_hidden": true
    }
   },
   "outputs": [
    {
     "name": "stdout",
     "output_type": "stream",
     "text": [
      "✅ [CHECKPOINT] betaDPO model adapter saved to ./outputs/betadpo_lora_adapter\n"
     ]
    }
   ],
   "source": [
    "# Save DPO adapter\n",
    "betadpo_adapter_path = \"./outputs/betadpo_lora_adapter\"\n",
    "\n",
    "try:\n",
    "    dpo_trainer.model.save_pretrained(\n",
    "        betadpo_adapter_path,\n",
    "        save_adapter=True,\n",
    "        save_config=True\n",
    "    )\n",
    "    print(f\"✅ [CHECKPOINT] betaDPO model adapter saved to {betadpo_adapter_path}\")\n",
    "except Exception as e:\n",
    "    print(f\"❌ Failed to save DPO model: {e}\")\n",
    "    raise"
   ]
  },
  {
   "cell_type": "code",
   "execution_count": null,
   "metadata": {
    "collapsed": true,
    "jupyter": {
     "outputs_hidden": true,
     "source_hidden": true
    }
   },
   "outputs": [
    {
     "name": "stdout",
     "output_type": "stream",
     "text": [
      "==((====))==  Unsloth 2025.4.3: Fast Llama patching. Transformers: 4.51.3.\n",
      "   \\\\   /|    NVIDIA GeForce RTX 3090. Num GPUs = 1. Max memory: 23.684 GB. Platform: Linux.\n",
      "O^O/ \\_/ \\    Torch: 2.7.0+cu126. CUDA: 8.6. CUDA Toolkit: 12.6. Triton: 3.3.0\n",
      "\\        /    Bfloat16 = TRUE. FA [Xformers = 0.0.30. FA2 = False]\n",
      " \"-____-\"     Free license: http://github.com/unslothai/unsloth\n",
      "Unsloth: Fast downloading is enabled - ignore downloading bars which are red colored!\n",
      "✅ [SUCCESS] DPO model loaded with CPU offloading!\n"
     ]
    }
   ],
   "source": [
    "import torch\n",
    "from peft import PeftModel\n",
    "from unsloth import FastLanguageModel\n",
    "\n",
    "# Clear GPU cache first\n",
    "torch.cuda.empty_cache()\n",
    "\n",
    "# 1. Load base model (4-bit quantized)\n",
    "model, dpo_eval_tokenizer = FastLanguageModel.from_pretrained(\n",
    "    model_name=\"unsloth/Llama-3.2-1B-unsloth-bnb-4bit\",\n",
    "    max_seq_length=1024,  # Reduce if OOM (original: 2048)\n",
    "    dtype=torch.float16,  # Use float16 for efficiency\n",
    "    load_in_4bit=True,\n",
    ")\n",
    "\n",
    "# 2. Define a custom device_map to offload some layers to CPU\n",
    "device_map = {\n",
    "    \"model.embed_tokens\": 0,  # GPU\n",
    "    \"model.layers.0\": 0,\n",
    "    \"model.layers.1\": 0,\n",
    "    # ... (assign more layers to GPU if possible)\n",
    "    \"model.norm\": \"cpu\",  # Offload norm layer to CPU\n",
    "    \"lm_head\": \"cpu\",     # Offload final layer to CPU\n",
    "}\n",
    "\n",
    "# 3. Load DPO adapter with manual offloading\n",
    "try:\n",
    "    dpo_eval_model = PeftModel.from_pretrained(\n",
    "        model,\n",
    "        betadpo_adapter_path,\n",
    "        device_map=device_map,\n",
    "    )\n",
    "    print(\"✅ [SUCCESS] DPO model loaded with CPU offloading!\")\n",
    "except Exception as e:\n",
    "    print(f\"❌ [ERROR] Failed to load DPO adapter: {e}\")\n",
    "    raise"
   ]
  },
  {
   "cell_type": "code",
   "execution_count": null,
   "metadata": {
    "collapsed": true,
    "jupyter": {
     "outputs_hidden": true,
     "source_hidden": true
    },
    "scrolled": true
   },
   "outputs": [],
   "source": [
    "# Run DPO evaluation\n",
    "print(f\"Running evaluation on {len(eval_dataset)} examples...\")\n",
    "eval_start = time.time()\n",
    "results = []\n",
    "empty_check = 0\n",
    "cnt = 0\n",
    "\n",
    "for i, example in enumerate(eval_dataset):\n",
    "    try:\n",
    "        print(f\"\\nExample {i+1}/{len(eval_dataset)}\")\n",
    "        #if cnt%10==0: \n",
    "        print(f\"Evaluating: {example['instruction'][:100]}...\")\n",
    "        \n",
    "        prompt = format_prompt(example[\"instruction\"])\n",
    "        base_response = generate_response(base_model, base_tokenizer, prompt)\n",
    "        dpo_response = generate_response(dpo_eval_model, dpo_eval_tokenizer, prompt)\n",
    "        \n",
    "        if cnt%10==0: \n",
    "            print(\"\\nDPO Model Response:\")\n",
    "            print(dpo_response)\n",
    "            print(\"\\nBase Model Response:\")\n",
    "            print(base_response)\n",
    "        \n",
    "        \n",
    "        \n",
    "        # Check for empty or non-meaningful responses\n",
    "        base_empty = not base_response.strip() or len(base_response.strip()) < 5 or base_response.strip().lower() in [\"n/a\", \"none\", \"no response\"]\n",
    "        dpo_empty = not dpo_response.strip() or len(dpo_response.strip()) < 5 or dpo_response.strip().lower() in [\"n/a\", \"none\", \"no response\"]\n",
    "        if dpo_empty:\n",
    "            empty_check += 1\n",
    "        if base_empty and not dpo_empty:\n",
    "            verdict = 2\n",
    "            print(\"Base response empty or non-meaningful - verdict: 2 (DPO wins)\")\n",
    "        elif dpo_empty and not base_empty:\n",
    "            verdict = 1\n",
    "            print(\"DPO response empty or non-meaningful - verdict: 1 (Base wins)\")\n",
    "        elif base_empty and dpo_empty:\n",
    "            verdict = 0\n",
    "            print(\"Both responses empty or non-meaningful - verdict: 0 (tie)\")\n",
    "        elif base_response.strip() == dpo_response.strip():\n",
    "            verdict = 0\n",
    "            print(\"Responses identical - verdict: 0 (tie)\")\n",
    "        else:\n",
    "            verdict = get_judgment(example[\"instruction\"], dpo_response, base_response)\n",
    "            print(f\"\\nVerdict: {verdict} ({['Tie', 'Base wins', 'DPO wins'][verdict]})\")\n",
    "        \n",
    "        results.append({\n",
    "            \"instruction\": example[\"instruction\"],\n",
    "            \"base_response\": base_response,\n",
    "            \"dpo_response\": dpo_response,\n",
    "            \"verdict\": verdict\n",
    "        })\n",
    "        print('dpo:',sum(1 for r in results if r[\"verdict\"] == 2), 'empty:', empty_check)\n",
    "        cnt += 1\n",
    "    except Exception as e:\n",
    "        print(f\"Error processing example {i+1}: {e}\")\n",
    "        continue\n",
    "\n",
    "# Calculate and display summary statistics\n",
    "total = len(results)\n",
    "if total > 0:\n",
    "    base_wins = sum(1 for r in results if r[\"verdict\"] == 1)\n",
    "    dpo_wins = sum(1 for r in results if r[\"verdict\"] == 2)\n",
    "    ties = sum(1 for r in results if r[\"verdict\"] == 0)\n",
    "'''   \n",
    "    print(\"\\n=== Evaluationquet Summary ===\")\n",
    "    print(f\"Total examples evaluated: {total}\")\n",
    "    print(f\"Base Model wins: {base_wins} ({base_wins/total:.1%})\")\n",
    "    print(f\"DPO Model wins: {dpo_wins} ({dpo_wins/total:.1%})\")\n",
    "    print(f\"Ties: {ties} ({ties/total:.1%})\")\n",
    "'''\n",
    "\n",
    "# Calculate statistics\n",
    "verdicts = [r[\"verdict\"] for r in results]\n",
    "dpo_stats = {\n",
    "    \"base_wins\": sum(1 for v in verdicts if v == 1),\n",
    "    \"dpo_wins\": sum(1 for v in verdicts if v == 2),\n",
    "    \"ties\": sum(1 for v in verdicts if v == 0),\n",
    "    \"total\": len(verdicts),\n",
    "    \"dpo_win_rate\": sum(1 for v in verdicts if v == 2) / len(verdicts) if verdicts else 0,\n",
    "}\n",
    "\n",
    "# Print summary statistics\n",
    "print(\"\\n=== DPO Evaluation Summary ===\")\n",
    "print(f\"Total examples evaluated: {dpo_stats['total']}\")\n",
    "print(f\"Base Model wins: {dpo_stats['base_wins']} ({dpo_stats['base_wins']/dpo_stats['total']:.1%})\")\n",
    "print(f\"DPO Model wins: {dpo_stats['dpo_wins']} ({dpo_stats['dpo_wins']/dpo_stats['total']:.1%})\")\n",
    "print(f\"Ties: {dpo_stats['ties']} ({dpo_stats['ties']/dpo_stats['total']:.1%})\")\n",
    "\n",
    "print(f\"\\n✅ Evaluation completed in {time.time() - eval_start:.2f}s\")"
   ]
  },
  {
   "cell_type": "code",
   "execution_count": null,
   "metadata": {
    "jupyter": {
     "source_hidden": true
    }
   },
   "outputs": [
    {
     "name": "stdout",
     "output_type": "stream",
     "text": [
      "✅ [CHECKPOINT] DPO results saved to ./outputs/alpacaeval_betadpo_results.json\n"
     ]
    }
   ],
   "source": [
    "# Save DPO results\n",
    "dpo_output_file = \"./outputs/alpacaeval_betadpo_results.json\"\n",
    "\n",
    "with open(dpo_output_file, \"w\") as f:\n",
    "    json.dump({\n",
    "        \"statistics\": dpo_stats,\n",
    "        \"results\": results,\n",
    "        \"config\": {\n",
    "            \"base_model\": \"unsloth/Llama-3.2-1B-unsloth-bnb-4bit\",\n",
    "            \"dpo_adapter\": \"/output/dpo_lora_adapter\",\n",
    "            \"judge_model\": \"unsloth/Llama-3.2-8B-Instruct-unsloth-bnb-4bit\",\n",
    "            \"num_samples\": len(results)\n",
    "        }\n",
    "    }, f, indent=2)\n",
    "\n",
    "print(f\"✅ [CHECKPOINT] DPO results saved to {dpo_output_file}\")"
   ]
  },
  {
   "cell_type": "markdown",
   "metadata": {},
   "source": [
    "## Final Summary\n",
    "Print a final summary of the entire pipeline."
   ]
  },
  {
   "cell_type": "markdown",
   "metadata": {},
   "source": [
    "Compare SFT and DPO Results"
   ]
  },
  {
   "cell_type": "code",
   "execution_count": null,
   "metadata": {},
   "outputs": [
    {
     "name": "stdout",
     "output_type": "stream",
     "text": [
      "\n",
      "=== Model Comparison Summary ===\n",
      "SFT Win Rate: 61.8%\n",
      "DPO Win Rate: 67.6%\n",
      "\n",
      "SFT Performance: Base Wins: 127 | SFT Wins: 309 | Ties: 64\n",
      "DPO Performance: Base Wins: 111 | DPO Wins: 338 | Ties: 51\n",
      "\n",
      "DPO improvement over SFT: 5.8 percentage points\n"
     ]
    }
   ],
   "source": [
    "print(\"\\n=== Model Comparison Summary ===\")\n",
    "print(f\"SFT Win Rate: {sft_stats['sft_win_rate']:.1%}\")\n",
    "print(f\"DPO Win Rate: {dpo_stats['dpo_win_rate']:.1%}\")\n",
    "print(f\"\\nSFT Performance: Base Wins: {sft_stats['base_wins']} | SFT Wins: {sft_stats['sft_wins']} | Ties: {sft_stats['ties']}\")\n",
    "print(f\"DPO Performance: Base Wins: {dpo_stats['base_wins']} | DPO Wins: {dpo_stats['dpo_wins']} | Ties: {dpo_stats['ties']}\")\n",
    "\n",
    "# Calculate improvement\n",
    "improvement = (dpo_stats['dpo_win_rate'] - sft_stats['sft_win_rate']) * 100\n",
    "print(f\"\\nDPO improvement over SFT: {improvement:.1f} percentage points\")"
   ]
  },
  {
   "cell_type": "code",
   "execution_count": null,
   "metadata": {},
   "outputs": [
    {
     "name": "stdout",
     "output_type": "stream",
     "text": [
      "\n",
      "=== FINAL SUMMARY ===\n",
      "SFT Win Rate: 61.8%\n",
      "DPO Win Rate: 67.6%\n",
      "DPO Improvement over SFT: 5.8 percentage points\n",
      "\n",
      "FULL PIPELINE COMPLETED SUCCESSFULLY in 14414.69s\n"
     ]
    }
   ],
   "source": [
    "print(\"\\n=== FINAL SUMMARY ===\")\n",
    "print(f\"SFT Win Rate: {sft_stats['sft_win_rate']:.1%}\")\n",
    "print(f\"DPO Win Rate: {dpo_stats['dpo_win_rate']:.1%}\")\n",
    "print(f\"DPO Improvement over SFT: {improvement:.1f} percentage points\")\n",
    "print(f\"\\nFULL PIPELINE COMPLETED SUCCESSFULLY in {time.time() - start_time:.2f}s\")"
   ]
  },
  {
   "cell_type": "markdown",
   "metadata": {},
   "source": [
    "## huggingface upload\n",
    "\n"
   ]
  },
  {
   "cell_type": "code",
   "execution_count": 4,
   "metadata": {},
   "outputs": [
    {
     "ename": "NameError",
     "evalue": "name 'dpo_eval_model' is not defined",
     "output_type": "error",
     "traceback": [
      "\u001b[0;31m---------------------------------------------------------------------------\u001b[0m",
      "\u001b[0;31mNameError\u001b[0m                                 Traceback (most recent call last)",
      "\u001b[0;32m<ipython-input-4-f3bc7e86eb3a>\u001b[0m in \u001b[0;36m<module>\u001b[0;34m\u001b[0m\n\u001b[0;32m----> 1\u001b[0;31m \u001b[0mdpo_eval_model\u001b[0m \u001b[0;34m=\u001b[0m \u001b[0mdpo_eval_model\u001b[0m\u001b[0;34m.\u001b[0m\u001b[0mmerge_and_unload\u001b[0m\u001b[0;34m(\u001b[0m\u001b[0;34m)\u001b[0m\u001b[0;34m\u001b[0m\u001b[0;34m\u001b[0m\u001b[0m\n\u001b[0m\u001b[1;32m      2\u001b[0m \u001b[0;34m\u001b[0m\u001b[0m\n\u001b[1;32m      3\u001b[0m \u001b[0mhf_user_name\u001b[0m \u001b[0;34m=\u001b[0m \u001b[0;34m\"E0oom\"\u001b[0m\u001b[0;34m\u001b[0m\u001b[0;34m\u001b[0m\u001b[0m\n\u001b[1;32m      4\u001b[0m \u001b[0mrepo_name\u001b[0m \u001b[0;34m=\u001b[0m \u001b[0;34m\"Llama-3.2-1B-betadpo\"\u001b[0m\u001b[0;34m\u001b[0m\u001b[0;34m\u001b[0m\u001b[0m\n\u001b[1;32m      5\u001b[0m \u001b[0mmodel_name\u001b[0m \u001b[0;34m=\u001b[0m \u001b[0;34mf\"{hf_user_name}/{repo_name}\"\u001b[0m\u001b[0;34m\u001b[0m\u001b[0;34m\u001b[0m\u001b[0m\n",
      "\u001b[0;31mNameError\u001b[0m: name 'dpo_eval_model' is not defined"
     ]
    }
   ],
   "source": [
    "dpo_eval_model = dpo_eval_model.merge_and_unload()\n",
    "\n",
    "hf_user_name = \"E0oom\"\n",
    "repo_name = \"Llama-3.2-1B-betadpo\"\n",
    "model_name = f\"{hf_user_name}/{repo_name}\"\n",
    "commit_m = \"\"\n",
    "\n",
    "\n",
    "dpo_eval_model.push_to_hub(\n",
    "    model_name,\n",
    "    commit_message = commit_m,\n",
    ")\n",
    "dpo_eval_tokenizer.push_to_hub(\n",
    "    repo_name,\n",
    "    commit_message = commit_m,\n",
    ")"
   ]
  }
 ],
 "metadata": {
  "kernelspec": {
   "display_name": "base",
   "language": "python",
   "name": "python3"
  },
  "language_info": {
   "codemirror_mode": {
    "name": "ipython",
    "version": 3
   },
   "file_extension": ".py",
   "mimetype": "text/x-python",
   "name": "python",
   "nbconvert_exporter": "python",
   "pygments_lexer": "ipython3",
   "version": "3.8.5"
  }
 },
 "nbformat": 4,
 "nbformat_minor": 4
}
